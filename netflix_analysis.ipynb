{
 "cells": [
  {
   "cell_type": "markdown",
   "id": "1561a698",
   "metadata": {},
   "source": [
    "# Netflix Dataset Analysis\n",
    "\n",
    "**Ready-to-run notebook** — follows the provided problem statement. Place `netflix_titles.csv` in a `dataset/` folder next to this notebook before running.\n",
    "\n",
    "### What this notebook contains\n",
    "- Load & quick checks\n",
    "- Cleaning & preprocessing (dates, duration, multi-value fields)\n",
    "- Exploratory Data Analysis (plots with matplotlib & Plotly)\n",
    "- Save cleaned data\n",
    "- Short insights & recommendations\n",
    "\n",
    "---\n"
   ]
  },
  {
   "cell_type": "code",
   "execution_count": null,
   "id": "0c40a009",
   "metadata": {},
   "outputs": [
    {
     "ename": "",
     "evalue": "",
     "output_type": "error",
     "traceback": [
      "\u001b[1;31mRunning cells with 'Python 3.13.7' requires the ipykernel package.\n",
      "\u001b[1;31m<a href='command:jupyter.createPythonEnvAndSelectController'>Create a Python Environment</a> with the required packages.\n",
      "\u001b[1;31mOr install 'ipykernel' using the command: 'c:/Users/mudab/AppData/Local/Programs/Python/Python313/python.exe -m pip install ipykernel -U --user --force-reinstall'"
     ]
    }
   ],
   "source": [
    "# Imports\n",
    "import pandas as pd\n",
    "import numpy as np\n",
    "import matplotlib.pyplot as plt\n",
    "import plotly.express as px\n",
    "import os\n",
    "from IPython.display import display\n",
    "%matplotlib inline\n",
    "print('Libraries loaded')"
   ]
  },
  {
   "cell_type": "markdown",
   "id": "a38de284",
   "metadata": {},
   "source": [
    "## 1) Load dataset\n",
    "Ensure your CSV is at `dataset/netflix_titles.csv`. If your filename differs, update the path below."
   ]
  },
  {
   "cell_type": "code",
   "execution_count": null,
   "id": "db301606",
   "metadata": {},
   "outputs": [],
   "source": [
    "DATA_PATH = 'dataset/netflix_titles.csv'\n",
    "if not os.path.exists(DATA_PATH):\n",
    "    raise FileNotFoundError(f\"Dataset not found at {DATA_PATH}. Please place 'netflix_titles.csv' in the 'dataset/' folder.\")\n",
    "df = pd.read_csv(DATA_PATH)\n",
    "print('Dataset loaded — shape:', df.shape)\n",
    "df.head()"
   ]
  },
  {
   "cell_type": "markdown",
   "id": "6bb6739f",
   "metadata": {},
   "source": [
    "### Quick checks"
   ]
  },
  {
   "cell_type": "code",
   "execution_count": null,
   "id": "433e465f",
   "metadata": {},
   "outputs": [],
   "source": [
    "# Basic info and missing values\n",
    "display(df.info())\n",
    "display(df.isnull().sum())\n",
    "display(df.describe(include='all').T)"
   ]
  },
  {
   "cell_type": "markdown",
   "id": "22808ec9",
   "metadata": {},
   "source": [
    "## 2) Cleaning & Preprocessing\n",
    "Steps:\n",
    "- Parse dates\n",
    "- Extract year_added\n",
    "- Parse duration (minutes / seasons)\n",
    "- Explode multi-valued columns: listed_in (genres), country, cast\n",
    "- Deduplicate\n"
   ]
  },
  {
   "cell_type": "code",
   "execution_count": null,
   "id": "95e01148",
   "metadata": {},
   "outputs": [],
   "source": [
    "# Make a copy for cleaning\n",
    "dfc = df.copy()\n",
    "\n",
    "# 1) date parsing\n",
    "dfc['date_added'] = pd.to_datetime(dfc['date_added'], errors='coerce')\n",
    "dfc['year_added'] = dfc['date_added'].dt.year\n",
    "\n",
    "# 2) normalize text fields (trim)\n",
    "for col in ['title','director','cast','country','listed_in','rating']:\n",
    "    if col in dfc.columns:\n",
    "        dfc[col] = dfc[col].astype(str).str.strip().replace({'nan': pd.NA})\n",
    "\n",
    "# 3) duration parsing\n",
    "def parse_duration(s):\n",
    "    if pd.isna(s):\n",
    "        return pd.NA, pd.NA\n",
    "    s = str(s).strip()\n",
    "    # minutes like '90 min'; seasons like '1 Season' or '3 Seasons'\n",
    "    num = ''.join([c for c in s if c.isdigit() or c==' ']).strip()\n",
    "    try:\n",
    "        n = int(num.split()[0])\n",
    "    except:\n",
    "        n = pd.NA\n",
    "    unit = 'min' if 'min' in s else ('season' if 'Season' in s or 'season' in s else pd.NA)\n",
    "    return n, unit\n",
    "\n",
    "dfc[['duration_num','duration_unit']] = pd.DataFrame(dfc['duration'].apply(lambda x: parse_duration(x)).tolist(), index=dfc.index)\n",
    "\n",
    "# 4) explode genres (listed_in), country, and cast for counting analyses\n",
    "for col in ['listed_in','country','cast']:\n",
    "    if col in dfc.columns:\n",
    "        dfc[col] = dfc[col].replace({'nan': ''}).fillna('')\n",
    "\n",
    "# Create exploded versions for analyses\n",
    "df_genre = dfc.assign(genre = dfc['listed_in'].str.split(', ')).explode('genre')\n",
    "df_country = dfc.assign(country_split = dfc['country'].str.split(', ')).explode('country_split')\n",
    "df_cast = dfc.assign(cast_member = dfc['cast'].str.split(', ')).explode('cast_member')\n",
    "\n",
    "# 5) deduplicate by title, type, release_year (conservative)\n",
    "if set(['title','type','release_year']).issubset(dfc.columns):\n",
    "    before = dfc.shape[0]\n",
    "    dfc.drop_duplicates(subset=['title','type','release_year'], inplace=True)\n",
    "    after = dfc.shape[0]\n",
    "    print(f'Deduplicated: {before-after} rows removed')\n",
    "else:\n",
    "    print('Dedup skip — required columns missing')\n",
    "\n",
    "# Summary after cleaning\n",
    "print('Cleaned dataframe shape:', dfc.shape)\n",
    "dfc.head()"
   ]
  },
  {
   "cell_type": "markdown",
   "id": "b35c2627",
   "metadata": {},
   "source": [
    "## 3) Exploratory Data Analysis (EDA)\n",
    "We'll run focused EDA sections aligned with the problem statement."
   ]
  },
  {
   "cell_type": "markdown",
   "id": "b3993e28",
   "metadata": {},
   "source": [
    "### 3.1 Movie vs TV Show distribution"
   ]
  },
  {
   "cell_type": "code",
   "execution_count": null,
   "id": "10080d92",
   "metadata": {},
   "outputs": [],
   "source": [
    "# Movie vs TV Show counts (matplotlib)\n",
    "plt.figure(figsize=(6,4))\n",
    "counts = dfc['type'].value_counts()\n",
    "counts.plot(kind='bar')\n",
    "plt.xlabel('Type')\n",
    "plt.ylabel('Count')\n",
    "plt.title('Distribution: Movies vs TV Shows')\n",
    "plt.tight_layout()\n",
    "plt.show()\n",
    "\n",
    "# Also show raw counts\n",
    "display(counts)"
   ]
  },
  {
   "cell_type": "markdown",
   "id": "47afbadc",
   "metadata": {},
   "source": [
    "### 3.2 Content added per year (by year_added)"
   ]
  },
  {
   "cell_type": "code",
   "execution_count": null,
   "id": "45a6bebe",
   "metadata": {},
   "outputs": [],
   "source": [
    "# Content added per year (interactive plotly)\n",
    "year_counts = dfc.groupby(['year_added','type']).size().reset_index(name='count').dropna(subset=['year_added'])\n",
    "fig = px.area(year_counts, x='year_added', y='count', color='type', title='Content added per year by type', labels={'year_added':'Year','count':'Number of titles'})\n",
    "fig.show()"
   ]
  },
  {
   "cell_type": "markdown",
   "id": "33e47536",
   "metadata": {},
   "source": [
    "### 3.3 Top Genres"
   ]
  },
  {
   "cell_type": "code",
   "execution_count": null,
   "id": "ff536626",
   "metadata": {},
   "outputs": [],
   "source": [
    "# Top genres (exploded)\n",
    "top_genres = df_genre['genre'].value_counts().head(15)\n",
    "top_genres_df = top_genres.reset_index()\n",
    "top_genres_df.columns = ['genre','count']\n",
    "# Matplotlib bar\n",
    "plt.figure(figsize=(10,5))\n",
    "plt.bar(top_genres_df['genre'], top_genres_df['count'])\n",
    "plt.xticks(rotation=45, ha='right')\n",
    "plt.ylabel('Count')\n",
    "plt.title('Top 15 Genres')\n",
    "plt.tight_layout()\n",
    "plt.show()\n",
    "\n",
    "display(top_genres_df)"
   ]
  },
  {
   "cell_type": "markdown",
   "id": "3dbc7b24",
   "metadata": {},
   "source": [
    "### 3.4 Top Countries (content-producing)"
   ]
  },
  {
   "cell_type": "code",
   "execution_count": null,
   "id": "e4fac041",
   "metadata": {},
   "outputs": [],
   "source": [
    "# Top countries (exploded)\n",
    "top_countries = df_country['country_split'].value_counts().head(15)\n",
    "top_countries_df = top_countries.reset_index()\n",
    "top_countries_df.columns = ['country','count']\n",
    "\n",
    "plt.figure(figsize=(10,5))\n",
    "plt.bar(top_countries_df['country'], top_countries_df['count'])\n",
    "plt.xticks(rotation=45, ha='right')\n",
    "plt.ylabel('Count')\n",
    "plt.title('Top 15 Countries by number of titles')\n",
    "plt.tight_layout()\n",
    "plt.show()\n",
    "\n",
    "display(top_countries_df)"
   ]
  },
  {
   "cell_type": "markdown",
   "id": "ee16401f",
   "metadata": {},
   "source": [
    "### 3.5 Duration analysis (Movies)"
   ]
  },
  {
   "cell_type": "code",
   "execution_count": null,
   "id": "41c2ead0",
   "metadata": {},
   "outputs": [],
   "source": [
    "# Duration distribution (movies) - numeric\n",
    "movies = dfc[dfc['type']=='Movie'].copy()\n",
    "movies['duration_num'] = pd.to_numeric(movies['duration_num'], errors='coerce')\n",
    "plt.figure(figsize=(8,4))\n",
    "plt.hist(movies['duration_num'].dropna(), bins=30)\n",
    "plt.xlabel('Duration (minutes)')\n",
    "plt.ylabel('Count')\n",
    "plt.title('Distribution of Movie Durations')\n",
    "plt.tight_layout()\n",
    "plt.show()\n",
    "\n",
    "# Basic stats\n",
    "display(movies['duration_num'].describe())"
   ]
  },
  {
   "cell_type": "markdown",
   "id": "f2cdb7a5",
   "metadata": {},
   "source": [
    "### 3.6 Ratings distribution"
   ]
  },
  {
   "cell_type": "code",
   "execution_count": null,
   "id": "f364a2ed",
   "metadata": {},
   "outputs": [],
   "source": [
    "# Ratings distribution (top categories)\n",
    "rating_counts = dfc['rating'].value_counts().head(20)\n",
    "plt.figure(figsize=(10,4))\n",
    "plt.bar(rating_counts.index, rating_counts.values)\n",
    "plt.xticks(rotation=45, ha='right')\n",
    "plt.ylabel('Count')\n",
    "plt.title('Top Ratings by count')\n",
    "plt.tight_layout()\n",
    "plt.show()\n",
    "\n",
    "display(rating_counts)"
   ]
  },
  {
   "cell_type": "markdown",
   "id": "aecd40bc",
   "metadata": {},
   "source": [
    "### 3.7 Top Directors & Cast members"
   ]
  },
  {
   "cell_type": "code",
   "execution_count": null,
   "id": "8e727049",
   "metadata": {},
   "outputs": [],
   "source": [
    "# Top directors (simple count)\n",
    "if 'director' in dfc.columns:\n",
    "    top_directors = dfc['director'].replace({'': pd.NA}).dropna().str.split(', ').explode().value_counts().head(15)\n",
    "    display(top_directors)\n",
    "else:\n",
    "    print('No director column')\n",
    "\n",
    "# Top cast members\n",
    "top_cast = df_cast['cast_member'].replace({'': pd.NA}).dropna().str.strip().value_counts().head(15)\n",
    "display(top_cast)"
   ]
  },
  {
   "cell_type": "markdown",
   "id": "f1ff9ae4",
   "metadata": {},
   "source": [
    "## 4) Save cleaned data and figures"
   ]
  },
  {
   "cell_type": "code",
   "execution_count": null,
   "id": "ce2cacdb",
   "metadata": {},
   "outputs": [],
   "source": [
    "# Save cleaned data to outputs/\n",
    "os.makedirs('outputs', exist_ok=True)\n",
    "cleaned_path = 'outputs/cleaned_netflix.csv'\n",
    "dfc.to_csv(cleaned_path, index=False)\n",
    "print('Cleaned data saved to', cleaned_path)"
   ]
  },
  {
   "cell_type": "markdown",
   "id": "52622659",
   "metadata": {},
   "source": [
    "## 5) Insights & Recommendations\n",
    "\n",
    "Based on the analysis above, add concise insights here. Below are actionable example insights you should adapt after running the notebook and inspecting counts:\n",
    "\n",
    "- **Type trend**: Inspect the area chart — if TV Shows grew faster than Movies, note years and possible reasons.\n",
    "- **Genre focus**: If Drama, Comedy, Documentary dominate — recommend content investment or localization strategies.\n",
    "- **Geographic distribution**: If US, India, UK are top producers, recommend regional content expansion where counts are low.\n",
    "- **Duration**: Typical movie runtime cluster (e.g., around 90–100 minutes) suggests viewer expectations.\n",
    "\n",
    "> After running the notebook, replace these example bullets with concrete numbers & charts from your outputs.\n",
    "\n",
    "---\n",
    "\n",
    "### Next steps (optional)\n",
    "- Build an interactive Streamlit dashboard using `outputs/cleaned_netflix.csv`.\n",
    "- Run clustering on top genres + numeric features to discover content segments.\n"
   ]
  }
 ],
 "metadata": {
  "kernelspec": {
   "display_name": "Python 3",
   "language": "python",
   "name": "python3"
  },
  "language_info": {
   "name": "python",
   "version": "3.13.7"
  }
 },
 "nbformat": 4,
 "nbformat_minor": 5
}
