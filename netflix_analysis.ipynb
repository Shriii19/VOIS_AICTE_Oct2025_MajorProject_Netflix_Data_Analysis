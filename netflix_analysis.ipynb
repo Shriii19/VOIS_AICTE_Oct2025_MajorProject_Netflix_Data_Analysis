{
 "cells": [
  {
   "cell_type": "markdown",
   "id": "1561a698",
   "metadata": {},
   "source": [
    "# Netflix Dataset Analysis\n",
    "\n",
    "**Ready-to-run notebook** — follows the provided problem statement. Place `netflix_titles.csv` in a `dataset/` folder next to this notebook before running.\n",
    "\n",
    "### What this notebook contains\n",
    "- Load & quick checks\n",
    "- Cleaning & preprocessing (dates, duration, multi-value fields)\n",
    "- Exploratory Data Analysis (plots with matplotlib & Plotly)\n",
    "- Save cleaned data\n",
    "- Short insights & recommendations\n",
    "\n",
    "---\n"
   ]
  },
  {
   "cell_type": "code",
   "execution_count": 1,
   "id": "0c40a009",
   "metadata": {},
   "outputs": [
    {
     "name": "stdout",
     "output_type": "stream",
     "text": [
      "Libraries loaded\n"
     ]
    }
   ],
   "source": [
    "# Imports\n",
    "import pandas as pd\n",
    "import numpy as np\n",
    "import matplotlib.pyplot as plt\n",
    "import plotly.express as px\n",
    "import os\n",
    "from IPython.display import display\n",
    "%matplotlib inline\n",
    "print('Libraries loaded')"
   ]
  },
  {
   "cell_type": "markdown",
   "id": "a38de284",
   "metadata": {},
   "source": [
    "## 1) Load dataset\n",
    "The dataset \"Netflix Dataset.csv\" has columns: Show_Id, Category, Title, Director, Cast, Country, Release_Date, Rating, Duration, Type, Description"
   ]
  },
  {
   "cell_type": "code",
   "execution_count": 2,
   "id": "db301606",
   "metadata": {},
   "outputs": [
    {
     "name": "stdout",
     "output_type": "stream",
     "text": [
      "Dataset loaded — shape: (7789, 11)\n",
      "Actual columns: ['Show_Id', 'Category', 'Title', 'Director', 'Cast', 'Country', 'Release_Date', 'Rating', 'Duration', 'Type', 'Description']\n",
      "Standardized columns: ['show_id', 'category', 'title', 'director', 'cast', 'country', 'release_date', 'rating', 'duration', 'type', 'description']\n"
     ]
    },
    {
     "data": {
      "text/html": [
       "<div>\n",
       "<style scoped>\n",
       "    .dataframe tbody tr th:only-of-type {\n",
       "        vertical-align: middle;\n",
       "    }\n",
       "\n",
       "    .dataframe tbody tr th {\n",
       "        vertical-align: top;\n",
       "    }\n",
       "\n",
       "    .dataframe thead th {\n",
       "        text-align: right;\n",
       "    }\n",
       "</style>\n",
       "<table border=\"1\" class=\"dataframe\">\n",
       "  <thead>\n",
       "    <tr style=\"text-align: right;\">\n",
       "      <th></th>\n",
       "      <th>show_id</th>\n",
       "      <th>category</th>\n",
       "      <th>title</th>\n",
       "      <th>director</th>\n",
       "      <th>cast</th>\n",
       "      <th>country</th>\n",
       "      <th>release_date</th>\n",
       "      <th>rating</th>\n",
       "      <th>duration</th>\n",
       "      <th>type</th>\n",
       "      <th>description</th>\n",
       "    </tr>\n",
       "  </thead>\n",
       "  <tbody>\n",
       "    <tr>\n",
       "      <th>0</th>\n",
       "      <td>s1</td>\n",
       "      <td>TV Show</td>\n",
       "      <td>3%</td>\n",
       "      <td>NaN</td>\n",
       "      <td>João Miguel, Bianca Comparato, Michel Gomes, R...</td>\n",
       "      <td>Brazil</td>\n",
       "      <td>August 14, 2020</td>\n",
       "      <td>TV-MA</td>\n",
       "      <td>4 Seasons</td>\n",
       "      <td>International TV Shows, TV Dramas, TV Sci-Fi &amp;...</td>\n",
       "      <td>In a future where the elite inhabit an island ...</td>\n",
       "    </tr>\n",
       "    <tr>\n",
       "      <th>1</th>\n",
       "      <td>s2</td>\n",
       "      <td>Movie</td>\n",
       "      <td>07:19</td>\n",
       "      <td>Jorge Michel Grau</td>\n",
       "      <td>Demián Bichir, Héctor Bonilla, Oscar Serrano, ...</td>\n",
       "      <td>Mexico</td>\n",
       "      <td>December 23, 2016</td>\n",
       "      <td>TV-MA</td>\n",
       "      <td>93 min</td>\n",
       "      <td>Dramas, International Movies</td>\n",
       "      <td>After a devastating earthquake hits Mexico Cit...</td>\n",
       "    </tr>\n",
       "    <tr>\n",
       "      <th>2</th>\n",
       "      <td>s3</td>\n",
       "      <td>Movie</td>\n",
       "      <td>23:59</td>\n",
       "      <td>Gilbert Chan</td>\n",
       "      <td>Tedd Chan, Stella Chung, Henley Hii, Lawrence ...</td>\n",
       "      <td>Singapore</td>\n",
       "      <td>December 20, 2018</td>\n",
       "      <td>R</td>\n",
       "      <td>78 min</td>\n",
       "      <td>Horror Movies, International Movies</td>\n",
       "      <td>When an army recruit is found dead, his fellow...</td>\n",
       "    </tr>\n",
       "    <tr>\n",
       "      <th>3</th>\n",
       "      <td>s4</td>\n",
       "      <td>Movie</td>\n",
       "      <td>9</td>\n",
       "      <td>Shane Acker</td>\n",
       "      <td>Elijah Wood, John C. Reilly, Jennifer Connelly...</td>\n",
       "      <td>United States</td>\n",
       "      <td>November 16, 2017</td>\n",
       "      <td>PG-13</td>\n",
       "      <td>80 min</td>\n",
       "      <td>Action &amp; Adventure, Independent Movies, Sci-Fi...</td>\n",
       "      <td>In a postapocalyptic world, rag-doll robots hi...</td>\n",
       "    </tr>\n",
       "    <tr>\n",
       "      <th>4</th>\n",
       "      <td>s5</td>\n",
       "      <td>Movie</td>\n",
       "      <td>21</td>\n",
       "      <td>Robert Luketic</td>\n",
       "      <td>Jim Sturgess, Kevin Spacey, Kate Bosworth, Aar...</td>\n",
       "      <td>United States</td>\n",
       "      <td>January 1, 2020</td>\n",
       "      <td>PG-13</td>\n",
       "      <td>123 min</td>\n",
       "      <td>Dramas</td>\n",
       "      <td>A brilliant group of students become card-coun...</td>\n",
       "    </tr>\n",
       "  </tbody>\n",
       "</table>\n",
       "</div>"
      ],
      "text/plain": [
       "  show_id category  title           director  \\\n",
       "0      s1  TV Show     3%                NaN   \n",
       "1      s2    Movie  07:19  Jorge Michel Grau   \n",
       "2      s3    Movie  23:59       Gilbert Chan   \n",
       "3      s4    Movie      9        Shane Acker   \n",
       "4      s5    Movie     21     Robert Luketic   \n",
       "\n",
       "                                                cast        country  \\\n",
       "0  João Miguel, Bianca Comparato, Michel Gomes, R...         Brazil   \n",
       "1  Demián Bichir, Héctor Bonilla, Oscar Serrano, ...         Mexico   \n",
       "2  Tedd Chan, Stella Chung, Henley Hii, Lawrence ...      Singapore   \n",
       "3  Elijah Wood, John C. Reilly, Jennifer Connelly...  United States   \n",
       "4  Jim Sturgess, Kevin Spacey, Kate Bosworth, Aar...  United States   \n",
       "\n",
       "        release_date rating   duration  \\\n",
       "0    August 14, 2020  TV-MA  4 Seasons   \n",
       "1  December 23, 2016  TV-MA     93 min   \n",
       "2  December 20, 2018      R     78 min   \n",
       "3  November 16, 2017  PG-13     80 min   \n",
       "4    January 1, 2020  PG-13    123 min   \n",
       "\n",
       "                                                type  \\\n",
       "0  International TV Shows, TV Dramas, TV Sci-Fi &...   \n",
       "1                       Dramas, International Movies   \n",
       "2                Horror Movies, International Movies   \n",
       "3  Action & Adventure, Independent Movies, Sci-Fi...   \n",
       "4                                             Dramas   \n",
       "\n",
       "                                         description  \n",
       "0  In a future where the elite inhabit an island ...  \n",
       "1  After a devastating earthquake hits Mexico Cit...  \n",
       "2  When an army recruit is found dead, his fellow...  \n",
       "3  In a postapocalyptic world, rag-doll robots hi...  \n",
       "4  A brilliant group of students become card-coun...  "
      ]
     },
     "execution_count": 2,
     "metadata": {},
     "output_type": "execute_result"
    }
   ],
   "source": [
    "# Load the Netflix dataset - actual file is \"Netflix Dataset.csv\"\n",
    "DATA_PATHS = [\n",
    "    'Netflix Dataset.csv',\n",
    "    'dataset/netflix_titles.csv',\n",
    "    'netflix_titles.csv',\n",
    "    'c:\\\\Users\\\\mudab\\\\Desktop\\\\Netflix_Data_Analysis\\\\Netflix Dataset.csv'\n",
    "]\n",
    "DATA_PATH = None\n",
    "for p in DATA_PATHS:\n",
    "    if os.path.exists(p):\n",
    "        DATA_PATH = p\n",
    "        break\n",
    "if DATA_PATH is None:\n",
    "    raise FileNotFoundError(f\"Dataset not found. Checked: {DATA_PATHS}. Please place the CSV in the workspace.\")\n",
    "\n",
    "df = pd.read_csv(DATA_PATH)\n",
    "print('Dataset loaded — shape:', df.shape)\n",
    "\n",
    "# Display columns in actual dataset\n",
    "print('Actual columns:', list(df.columns))\n",
    "\n",
    "# Standardize column names to snake_case for consistency\n",
    "# Mapping: Show_Id->show_id, Category->category (type), Title->title, Director->director, \n",
    "# Cast->cast, Country->country, Release_Date->date_added/release_year, Rating->rating, \n",
    "# Duration->duration, Type->listed_in (genres), Description->description\n",
    "df.columns = [c.strip().lower().replace(' ', '_') for c in df.columns]\n",
    "print('Standardized columns:', list(df.columns))\n",
    "\n",
    "df.head()"
   ]
  },
  {
   "cell_type": "markdown",
   "id": "6bb6739f",
   "metadata": {},
   "source": [
    "### Quick checks"
   ]
  },
  {
   "cell_type": "code",
   "execution_count": 3,
   "id": "433e465f",
   "metadata": {},
   "outputs": [
    {
     "name": "stdout",
     "output_type": "stream",
     "text": [
      "<class 'pandas.core.frame.DataFrame'>\n",
      "RangeIndex: 7789 entries, 0 to 7788\n",
      "Data columns (total 11 columns):\n",
      " #   Column        Non-Null Count  Dtype \n",
      "---  ------        --------------  ----- \n",
      " 0   show_id       7789 non-null   object\n",
      " 1   category      7789 non-null   object\n",
      " 2   title         7789 non-null   object\n",
      " 3   director      5401 non-null   object\n",
      " 4   cast          7071 non-null   object\n",
      " 5   country       7282 non-null   object\n",
      " 6   release_date  7779 non-null   object\n",
      " 7   rating        7782 non-null   object\n",
      " 8   duration      7789 non-null   object\n",
      " 9   type          7789 non-null   object\n",
      " 10  description   7789 non-null   object\n",
      "dtypes: object(11)\n",
      "memory usage: 669.5+ KB\n"
     ]
    },
    {
     "data": {
      "text/plain": [
       "None"
      ]
     },
     "metadata": {},
     "output_type": "display_data"
    },
    {
     "data": {
      "text/plain": [
       "show_id            0\n",
       "category           0\n",
       "title              0\n",
       "director        2388\n",
       "cast             718\n",
       "country          507\n",
       "release_date      10\n",
       "rating             7\n",
       "duration           0\n",
       "type               0\n",
       "description        0\n",
       "dtype: int64"
      ]
     },
     "metadata": {},
     "output_type": "display_data"
    },
    {
     "data": {
      "text/html": [
       "<div>\n",
       "<style scoped>\n",
       "    .dataframe tbody tr th:only-of-type {\n",
       "        vertical-align: middle;\n",
       "    }\n",
       "\n",
       "    .dataframe tbody tr th {\n",
       "        vertical-align: top;\n",
       "    }\n",
       "\n",
       "    .dataframe thead th {\n",
       "        text-align: right;\n",
       "    }\n",
       "</style>\n",
       "<table border=\"1\" class=\"dataframe\">\n",
       "  <thead>\n",
       "    <tr style=\"text-align: right;\">\n",
       "      <th></th>\n",
       "      <th>count</th>\n",
       "      <th>unique</th>\n",
       "      <th>top</th>\n",
       "      <th>freq</th>\n",
       "    </tr>\n",
       "  </thead>\n",
       "  <tbody>\n",
       "    <tr>\n",
       "      <th>show_id</th>\n",
       "      <td>7789</td>\n",
       "      <td>7787</td>\n",
       "      <td>s684</td>\n",
       "      <td>2</td>\n",
       "    </tr>\n",
       "    <tr>\n",
       "      <th>category</th>\n",
       "      <td>7789</td>\n",
       "      <td>2</td>\n",
       "      <td>Movie</td>\n",
       "      <td>5379</td>\n",
       "    </tr>\n",
       "    <tr>\n",
       "      <th>title</th>\n",
       "      <td>7789</td>\n",
       "      <td>7787</td>\n",
       "      <td>Backfire</td>\n",
       "      <td>2</td>\n",
       "    </tr>\n",
       "    <tr>\n",
       "      <th>director</th>\n",
       "      <td>5401</td>\n",
       "      <td>4050</td>\n",
       "      <td>Raúl Campos, Jan Suter</td>\n",
       "      <td>18</td>\n",
       "    </tr>\n",
       "    <tr>\n",
       "      <th>cast</th>\n",
       "      <td>7071</td>\n",
       "      <td>6831</td>\n",
       "      <td>David Attenborough</td>\n",
       "      <td>18</td>\n",
       "    </tr>\n",
       "    <tr>\n",
       "      <th>country</th>\n",
       "      <td>7282</td>\n",
       "      <td>681</td>\n",
       "      <td>United States</td>\n",
       "      <td>2556</td>\n",
       "    </tr>\n",
       "    <tr>\n",
       "      <th>release_date</th>\n",
       "      <td>7779</td>\n",
       "      <td>1565</td>\n",
       "      <td>January 1, 2020</td>\n",
       "      <td>118</td>\n",
       "    </tr>\n",
       "    <tr>\n",
       "      <th>rating</th>\n",
       "      <td>7782</td>\n",
       "      <td>14</td>\n",
       "      <td>TV-MA</td>\n",
       "      <td>2865</td>\n",
       "    </tr>\n",
       "    <tr>\n",
       "      <th>duration</th>\n",
       "      <td>7789</td>\n",
       "      <td>216</td>\n",
       "      <td>1 Season</td>\n",
       "      <td>1608</td>\n",
       "    </tr>\n",
       "    <tr>\n",
       "      <th>type</th>\n",
       "      <td>7789</td>\n",
       "      <td>492</td>\n",
       "      <td>Documentaries</td>\n",
       "      <td>334</td>\n",
       "    </tr>\n",
       "    <tr>\n",
       "      <th>description</th>\n",
       "      <td>7789</td>\n",
       "      <td>7769</td>\n",
       "      <td>Multiple women report their husbands as missin...</td>\n",
       "      <td>3</td>\n",
       "    </tr>\n",
       "  </tbody>\n",
       "</table>\n",
       "</div>"
      ],
      "text/plain": [
       "             count unique                                                top  \\\n",
       "show_id       7789   7787                                               s684   \n",
       "category      7789      2                                              Movie   \n",
       "title         7789   7787                                           Backfire   \n",
       "director      5401   4050                             Raúl Campos, Jan Suter   \n",
       "cast          7071   6831                                 David Attenborough   \n",
       "country       7282    681                                      United States   \n",
       "release_date  7779   1565                                    January 1, 2020   \n",
       "rating        7782     14                                              TV-MA   \n",
       "duration      7789    216                                           1 Season   \n",
       "type          7789    492                                      Documentaries   \n",
       "description   7789   7769  Multiple women report their husbands as missin...   \n",
       "\n",
       "              freq  \n",
       "show_id          2  \n",
       "category      5379  \n",
       "title            2  \n",
       "director        18  \n",
       "cast            18  \n",
       "country       2556  \n",
       "release_date   118  \n",
       "rating        2865  \n",
       "duration      1608  \n",
       "type           334  \n",
       "description      3  "
      ]
     },
     "metadata": {},
     "output_type": "display_data"
    }
   ],
   "source": [
    "# Basic info and missing values\n",
    "display(df.info())\n",
    "display(df.isnull().sum())\n",
    "display(df.describe(include='all').T)"
   ]
  },
  {
   "cell_type": "markdown",
   "id": "22808ec9",
   "metadata": {},
   "source": [
    "## 2) Cleaning & Preprocessing\n",
    "Steps:\n",
    "- Parse dates\n",
    "- Extract year_added\n",
    "- Parse duration (minutes / seasons)\n",
    "- Explode multi-valued columns: listed_in (genres), country, cast\n",
    "- Deduplicate\n"
   ]
  },
  {
   "cell_type": "code",
   "execution_count": 4,
   "id": "95e01148",
   "metadata": {},
   "outputs": [
    {
     "name": "stdout",
     "output_type": "stream",
     "text": [
      "Initial shape: (7789, 11)\n",
      "Initial columns: ['show_id', 'category', 'title', 'director', 'cast', 'country', 'release_date', 'rating', 'duration', 'type', 'description']\n",
      "After rename: ['show_id', 'type', 'title', 'director', 'cast', 'country', 'date_added', 'rating', 'duration', 'listed_in', 'description']\n",
      "Deduplicated: 3 rows removed\n",
      "Cleaned dataframe shape: (7786, 15)\n"
     ]
    },
    {
     "data": {
      "text/html": [
       "<div>\n",
       "<style scoped>\n",
       "    .dataframe tbody tr th:only-of-type {\n",
       "        vertical-align: middle;\n",
       "    }\n",
       "\n",
       "    .dataframe tbody tr th {\n",
       "        vertical-align: top;\n",
       "    }\n",
       "\n",
       "    .dataframe thead th {\n",
       "        text-align: right;\n",
       "    }\n",
       "</style>\n",
       "<table border=\"1\" class=\"dataframe\">\n",
       "  <thead>\n",
       "    <tr style=\"text-align: right;\">\n",
       "      <th></th>\n",
       "      <th>show_id</th>\n",
       "      <th>type</th>\n",
       "      <th>title</th>\n",
       "      <th>director</th>\n",
       "      <th>cast</th>\n",
       "      <th>country</th>\n",
       "      <th>date_added</th>\n",
       "      <th>rating</th>\n",
       "      <th>duration</th>\n",
       "      <th>listed_in</th>\n",
       "      <th>description</th>\n",
       "      <th>year_added</th>\n",
       "      <th>release_year</th>\n",
       "      <th>duration_num</th>\n",
       "      <th>duration_unit</th>\n",
       "    </tr>\n",
       "  </thead>\n",
       "  <tbody>\n",
       "    <tr>\n",
       "      <th>0</th>\n",
       "      <td>s1</td>\n",
       "      <td>TV Show</td>\n",
       "      <td>3%</td>\n",
       "      <td>NaN</td>\n",
       "      <td>João Miguel, Bianca Comparato, Michel Gomes, R...</td>\n",
       "      <td>Brazil</td>\n",
       "      <td>2020-08-14</td>\n",
       "      <td>TV-MA</td>\n",
       "      <td>4 Seasons</td>\n",
       "      <td>International TV Shows, TV Dramas, TV Sci-Fi &amp;...</td>\n",
       "      <td>In a future where the elite inhabit an island ...</td>\n",
       "      <td>2020.0</td>\n",
       "      <td>2020.0</td>\n",
       "      <td>4</td>\n",
       "      <td>season</td>\n",
       "    </tr>\n",
       "    <tr>\n",
       "      <th>1</th>\n",
       "      <td>s2</td>\n",
       "      <td>Movie</td>\n",
       "      <td>07:19</td>\n",
       "      <td>Jorge Michel Grau</td>\n",
       "      <td>Demián Bichir, Héctor Bonilla, Oscar Serrano, ...</td>\n",
       "      <td>Mexico</td>\n",
       "      <td>2016-12-23</td>\n",
       "      <td>TV-MA</td>\n",
       "      <td>93 min</td>\n",
       "      <td>Dramas, International Movies</td>\n",
       "      <td>After a devastating earthquake hits Mexico Cit...</td>\n",
       "      <td>2016.0</td>\n",
       "      <td>2016.0</td>\n",
       "      <td>93</td>\n",
       "      <td>min</td>\n",
       "    </tr>\n",
       "    <tr>\n",
       "      <th>2</th>\n",
       "      <td>s3</td>\n",
       "      <td>Movie</td>\n",
       "      <td>23:59</td>\n",
       "      <td>Gilbert Chan</td>\n",
       "      <td>Tedd Chan, Stella Chung, Henley Hii, Lawrence ...</td>\n",
       "      <td>Singapore</td>\n",
       "      <td>2018-12-20</td>\n",
       "      <td>R</td>\n",
       "      <td>78 min</td>\n",
       "      <td>Horror Movies, International Movies</td>\n",
       "      <td>When an army recruit is found dead, his fellow...</td>\n",
       "      <td>2018.0</td>\n",
       "      <td>2018.0</td>\n",
       "      <td>78</td>\n",
       "      <td>min</td>\n",
       "    </tr>\n",
       "    <tr>\n",
       "      <th>3</th>\n",
       "      <td>s4</td>\n",
       "      <td>Movie</td>\n",
       "      <td>9</td>\n",
       "      <td>Shane Acker</td>\n",
       "      <td>Elijah Wood, John C. Reilly, Jennifer Connelly...</td>\n",
       "      <td>United States</td>\n",
       "      <td>2017-11-16</td>\n",
       "      <td>PG-13</td>\n",
       "      <td>80 min</td>\n",
       "      <td>Action &amp; Adventure, Independent Movies, Sci-Fi...</td>\n",
       "      <td>In a postapocalyptic world, rag-doll robots hi...</td>\n",
       "      <td>2017.0</td>\n",
       "      <td>2017.0</td>\n",
       "      <td>80</td>\n",
       "      <td>min</td>\n",
       "    </tr>\n",
       "    <tr>\n",
       "      <th>4</th>\n",
       "      <td>s5</td>\n",
       "      <td>Movie</td>\n",
       "      <td>21</td>\n",
       "      <td>Robert Luketic</td>\n",
       "      <td>Jim Sturgess, Kevin Spacey, Kate Bosworth, Aar...</td>\n",
       "      <td>United States</td>\n",
       "      <td>2020-01-01</td>\n",
       "      <td>PG-13</td>\n",
       "      <td>123 min</td>\n",
       "      <td>Dramas</td>\n",
       "      <td>A brilliant group of students become card-coun...</td>\n",
       "      <td>2020.0</td>\n",
       "      <td>2020.0</td>\n",
       "      <td>123</td>\n",
       "      <td>min</td>\n",
       "    </tr>\n",
       "  </tbody>\n",
       "</table>\n",
       "</div>"
      ],
      "text/plain": [
       "  show_id     type  title           director  \\\n",
       "0      s1  TV Show     3%                NaN   \n",
       "1      s2    Movie  07:19  Jorge Michel Grau   \n",
       "2      s3    Movie  23:59       Gilbert Chan   \n",
       "3      s4    Movie      9        Shane Acker   \n",
       "4      s5    Movie     21     Robert Luketic   \n",
       "\n",
       "                                                cast        country  \\\n",
       "0  João Miguel, Bianca Comparato, Michel Gomes, R...         Brazil   \n",
       "1  Demián Bichir, Héctor Bonilla, Oscar Serrano, ...         Mexico   \n",
       "2  Tedd Chan, Stella Chung, Henley Hii, Lawrence ...      Singapore   \n",
       "3  Elijah Wood, John C. Reilly, Jennifer Connelly...  United States   \n",
       "4  Jim Sturgess, Kevin Spacey, Kate Bosworth, Aar...  United States   \n",
       "\n",
       "  date_added rating   duration  \\\n",
       "0 2020-08-14  TV-MA  4 Seasons   \n",
       "1 2016-12-23  TV-MA     93 min   \n",
       "2 2018-12-20      R     78 min   \n",
       "3 2017-11-16  PG-13     80 min   \n",
       "4 2020-01-01  PG-13    123 min   \n",
       "\n",
       "                                           listed_in  \\\n",
       "0  International TV Shows, TV Dramas, TV Sci-Fi &...   \n",
       "1                       Dramas, International Movies   \n",
       "2                Horror Movies, International Movies   \n",
       "3  Action & Adventure, Independent Movies, Sci-Fi...   \n",
       "4                                             Dramas   \n",
       "\n",
       "                                         description  year_added  \\\n",
       "0  In a future where the elite inhabit an island ...      2020.0   \n",
       "1  After a devastating earthquake hits Mexico Cit...      2016.0   \n",
       "2  When an army recruit is found dead, his fellow...      2018.0   \n",
       "3  In a postapocalyptic world, rag-doll robots hi...      2017.0   \n",
       "4  A brilliant group of students become card-coun...      2020.0   \n",
       "\n",
       "   release_year  duration_num duration_unit  \n",
       "0        2020.0             4        season  \n",
       "1        2016.0            93           min  \n",
       "2        2018.0            78           min  \n",
       "3        2017.0            80           min  \n",
       "4        2020.0           123           min  "
      ]
     },
     "execution_count": 4,
     "metadata": {},
     "output_type": "execute_result"
    }
   ],
   "source": [
    "# Make a copy for cleaning\n",
    "dfc = df.copy()\n",
    "\n",
    "print(f\"Initial shape: {dfc.shape}\")\n",
    "print(f\"Initial columns: {list(dfc.columns)}\")\n",
    "\n",
    "# Column mapping for this dataset:\n",
    "# 'category' contains Movie/TV Show (what notebook expects as 'type')\n",
    "# 'type' contains genres (what notebook expects as 'listed_in')\n",
    "# 'release_date' is when added to Netflix (what notebook expects as 'date_added')\n",
    "\n",
    "# Rename columns to match expected structure  \n",
    "column_rename_map = {}\n",
    "if 'category' in dfc.columns:\n",
    "    column_rename_map['category'] = 'type'\n",
    "if 'type' in dfc.columns and 'listed_in' not in dfc.columns:\n",
    "    column_rename_map['type'] = 'listed_in'\n",
    "if 'release_date' in dfc.columns:\n",
    "    column_rename_map['release_date'] = 'date_added'\n",
    "\n",
    "if column_rename_map:\n",
    "    dfc = dfc.rename(columns=column_rename_map)\n",
    "    print(f\"After rename: {list(dfc.columns)}\")\n",
    "\n",
    "# 1) date parsing\n",
    "dfc['date_added'] = pd.to_datetime(dfc['date_added'], errors='coerce')\n",
    "dfc['year_added'] = dfc['date_added'].dt.year\n",
    "\n",
    "# Extract release_year from date if not present\n",
    "if 'release_year' not in dfc.columns:\n",
    "    dfc['release_year'] = dfc['date_added'].dt.year\n",
    "\n",
    "# 2) normalize text fields - handle NaN properly\n",
    "for col in ['title','director','cast','country','listed_in','rating']:\n",
    "    if col in dfc.columns:\n",
    "        # Fill NaN with empty string temporarily, strip, then convert back\n",
    "        mask = dfc[col].notna()\n",
    "        dfc.loc[mask, col] = dfc.loc[mask, col].astype(str).str.strip()\n",
    "\n",
    "# 3) duration parsing\n",
    "def parse_duration(s):\n",
    "    if pd.isna(s) or s == '' or s == 'nan':\n",
    "        return pd.NA, pd.NA\n",
    "    s = str(s).strip()\n",
    "    # minutes like '90 min'; seasons like '1 Season' or '3 Seasons'\n",
    "    num = ''.join([c for c in s if c.isdigit() or c==' ']).strip()\n",
    "    try:\n",
    "        n = int(num.split()[0]) if num else pd.NA\n",
    "    except:\n",
    "        n = pd.NA\n",
    "    unit = 'min' if 'min' in s.lower() else ('season' if 'season' in s.lower() else pd.NA)\n",
    "    return n, unit\n",
    "\n",
    "dfc[['duration_num','duration_unit']] = pd.DataFrame(dfc['duration'].apply(lambda x: parse_duration(x)).tolist(), index=dfc.index)\n",
    "\n",
    "# 4) explode genres (listed_in), country, and cast for counting analyses\n",
    "for col in ['listed_in','country','cast']:\n",
    "    if col in dfc.columns:\n",
    "        dfc[col] = dfc[col].fillna('')\n",
    "\n",
    "# Create exploded versions for analyses\n",
    "df_genre = dfc.copy()\n",
    "df_genre['genre'] = df_genre['listed_in'].str.split(', ')\n",
    "df_genre = df_genre.explode('genre')\n",
    "\n",
    "df_country = dfc.copy()\n",
    "df_country['country_split'] = df_country['country'].str.split(', ')\n",
    "df_country = df_country.explode('country_split')\n",
    "\n",
    "df_cast = dfc.copy()\n",
    "df_cast['cast_member'] = df_cast['cast'].str.split(', ')\n",
    "df_cast = df_cast.explode('cast_member')\n",
    "\n",
    "# 5) deduplicate by title, type, release_year (conservative)\n",
    "if set(['title','type','release_year']).issubset(dfc.columns):\n",
    "    before = dfc.shape[0]\n",
    "    dfc = dfc.drop_duplicates(subset=['title','type','release_year'])\n",
    "    after = dfc.shape[0]\n",
    "    print(f'Deduplicated: {before-after} rows removed')\n",
    "else:\n",
    "    print('Dedup skip — required columns missing')\n",
    "\n",
    "# Summary after cleaning\n",
    "print('Cleaned dataframe shape:', dfc.shape)\n",
    "dfc.head()"
   ]
  },
  {
   "cell_type": "markdown",
   "id": "b35c2627",
   "metadata": {},
   "source": [
    "## 3) Exploratory Data Analysis (EDA)\n",
    "We'll run focused EDA sections aligned with the problem statement."
   ]
  },
  {
   "cell_type": "markdown",
   "id": "b3993e28",
   "metadata": {},
   "source": [
    "### 3.1 Movie vs TV Show distribution"
   ]
  },
  {
   "cell_type": "code",
   "execution_count": 5,
   "id": "10080d92",
   "metadata": {},
   "outputs": [
    {
     "data": {
      "image/png": "[encoded data removed]",
      "text/plain": [
       "<Figure size 600x400 with 1 Axes>"
      ]
     },
     "metadata": {},
     "output_type": "display_data"
    },
    {
     "data": {
      "text/plain": [
       "type\n",
       "Movie      5376\n",
       "TV Show    2410\n",
       "Name: count, dtype: int64"
      ]
     },
     "metadata": {},
     "output_type": "display_data"
    }
   ],
   "source": [
    "# Movie vs TV Show counts (matplotlib)\n",
    "plt.figure(figsize=(6,4))\n",
    "counts = dfc['type'].value_counts()\n",
    "counts.plot(kind='bar')\n",
    "plt.xlabel('Type')\n",
    "plt.ylabel('Count')\n",
    "plt.title('Distribution: Movies vs TV Shows')\n",
    "plt.tight_layout()\n",
    "plt.show()\n",
    "\n",
    "# Also show raw counts\n",
    "display(counts)"
   ]
  },
  {
   "cell_type": "markdown",
   "id": "47afbadc",
   "metadata": {},
   "source": [
    "### 3.2 Content added per year (by year_added)"
   ]
  },
  {
   "cell_type": "code",
   "execution_count": 6,
   "id": "45a6bebe",
   "metadata": {},
   "outputs": [
    {
     "data": {
      "application/vnd.plotly.v1+json": {
       "config": {
        "plotlyServerURL": "https://plot.ly"
       },
       "data": [
        {
         "fillpattern": {
          "shape": ""
         },
         "hovertemplate": "type=Movie<br>Year=%{x}<br>Number of titles=%{y}<extra></extra>",
         "legendgroup": "Movie",
         "line": {
          "color": "#636efa"
         },
         "marker": {
          "symbol": "circle"
         },
         "mode": "lines",
         "name": "Movie",
         "orientation": "v",
         "showlegend": true,
         "stackgroup": "1",
         "type": "scatter",
         "x": {
          "bdata": "AAAAAABgn0AAAAAAAGSfQAAAAAAAaJ9AAAAAAABsn0AAAAAAAHCfQAAAAAAAdJ9AAAAAAAB4n0AAAAAAAHyfQAAAAAAAgJ9AAAAAAACEn0AAAAAAAIifQAAAAAAAjJ9AAAAAAACQn0AAAAAAAJSfQA==",
          "dtype": "f8"
         },
         "xaxis": "x",
         "y": {
          "bdata": "AQACAAEADQADAAYAEwA6AAIBYAPnBNgFIAVYAA==",
          "dtype": "i2"
         },
         "yaxis": "y"
        },
        {
         "fillpattern": {
          "shape": ""
         },
         "hovertemplate": "type=TV Show<br>Year=%{x}<br>Number of titles=%{y}<extra></extra>",
         "legendgroup": "TV Show",
         "line": {
          "color": "#EF553B"
         },
         "marker": {
          "symbol": "circle"
         },
         "mode": "lines",
         "name": "TV Show",
         "orientation": "v",
         "showlegend": true,
         "stackgroup": "1",
         "type": "scatter",
         "x": {
          "bdata": "AAAAAABgn0AAAAAAAHSfQAAAAAAAeJ9AAAAAAAB8n0AAAAAAAICfQAAAAAAAhJ9AAAAAAACIn0AAAAAAAIyfQAAAAAAAkJ9AAAAAAACUn0A=",
          "dtype": "f8"
         },
         "xaxis": "x",
         "y": {
          "bdata": "AQAEAAUAFQCuAFEBlgF/ArgCHQA=",
          "dtype": "i2"
         },
         "yaxis": "y"
        }
       ],
       "layout": {
        "legend": {
         "title": {
          "text": "type"
         },
         "tracegroupgap": 0
        },
        "template": {
         "data": {
          "bar": [
           {
            "error_x": {
             "color": "#2a3f5f"
            },
            "error_y": {
             "color": "#2a3f5f"
            },
            "marker": {
             "line": {
              "color": "#E5ECF6",
              "width": 0.5
             },
             "pattern": {
              "fillmode": "overlay",
              "size": 10,
              "solidity": 0.2
             }
            },
            "type": "bar"
           }
          ],
          "barpolar": [
           {
            "marker": {
             "line": {
              "color": "#E5ECF6",
              "width": 0.5
             },
             "pattern": {
              "fillmode": "overlay",
              "size": 10,
              "solidity": 0.2
             }
            },
            "type": "barpolar"
           }
          ],
          "carpet": [
           {
            "aaxis": {
             "endlinecolor": "#2a3f5f",
             "gridcolor": "white",
             "linecolor": "white",
             "minorgridcolor": "white",
             "startlinecolor": "#2a3f5f"
            },
            "baxis": {
             "endlinecolor": "#2a3f5f",
             "gridcolor": "white",
             "linecolor": "white",
             "minorgridcolor": "white",
             "startlinecolor": "#2a3f5f"
            },
            "type": "carpet"
           }
          ],
          "choropleth": [
           {
            "colorbar": {
             "outlinewidth": 0,
             "ticks": ""
            },
            "type": "choropleth"
           }
          ],
          "contour": [
           {
            "colorbar": {
             "outlinewidth": 0,
             "ticks": ""
            },
            "colorscale": [
             [
              0,
              "#0d0887"
             ],
             [
              0.1111111111111111,
              "#46039f"
             ],
             [
              0.2222222222222222,
              "#7201a8"
             ],
             [
              0.3333333333333333,
              "#9c179e"
             ],
             [
              0.4444444444444444,
              "#bd3786"
             ],
             [
              0.5555555555555556,
              "#d8576b"
             ],
             [
              0.6666666666666666,
              "#ed7953"
             ],
             [
              0.7777777777777778,
              "#fb9f3a"
             ],
             [
              0.8888888888888888,
              "#fdca26"
             ],
             [
              1,
              "#f0f921"
             ]
            ],
            "type": "contour"
           }
          ],
          "contourcarpet": [
           {
            "colorbar": {
             "outlinewidth": 0,
             "ticks": ""
            },
            "type": "contourcarpet"
           }
          ],
          "heatmap": [
           {
            "colorbar": {
             "outlinewidth": 0,
             "ticks": ""
            },
            "colorscale": [
             [
              0,
              "#0d0887"
             ],
             [
              0.1111111111111111,
              "#46039f"
             ],
             [
              0.2222222222222222,
              "#7201a8"
             ],
             [
              0.3333333333333333,
              "#9c179e"
             ],
             [
              0.4444444444444444,
              "#bd3786"
             ],
             [
              0.5555555555555556,
              "#d8576b"
             ],
             [
              0.6666666666666666,
              "#ed7953"
             ],
             [
              0.7777777777777778,
              "#fb9f3a"
             ],
             [
              0.8888888888888888,
              "#fdca26"
             ],
             [
              1,
              "#f0f921"
             ]
            ],
            "type": "heatmap"
           }
          ],
          "histogram": [
           {
            "marker": {
             "pattern": {
              "fillmode": "overlay",
              "size": 10,
              "solidity": 0.2
             }
            },
            "type": "histogram"
           }
          ],
          "histogram2d": [
           {
            "colorbar": {
             "outlinewidth": 0,
             "ticks": ""
            },
            "colorscale": [
             [
              0,
              "#0d0887"
             ],
             [
              0.1111111111111111,
              "#46039f"
             ],
             [
              0.2222222222222222,
              "#7201a8"
             ],
             [
              0.3333333333333333,
              "#9c179e"
             ],
             [
              0.4444444444444444,
              "#bd3786"
             ],
             [
              0.5555555555555556,
              "#d8576b"
             ],
             [
              0.6666666666666666,
              "#ed7953"
             ],
             [
              0.7777777777777778,
              "#fb9f3a"
             ],
             [
              0.8888888888888888,
              "#fdca26"
             ],
             [
              1,
              "#f0f921"
             ]
            ],
            "type": "histogram2d"
           }
          ],
          "histogram2dcontour": [
           {
            "colorbar": {
             "outlinewidth": 0,
             "ticks": ""
            },
            "colorscale": [
             [
              0,
              "#0d0887"
             ],
             [
              0.1111111111111111,
              "#46039f"
             ],
             [
              0.2222222222222222,
              "#7201a8"
             ],
             [
              0.3333333333333333,
              "#9c179e"
             ],
             [
              0.4444444444444444,
              "#bd3786"
             ],
             [
              0.5555555555555556,
              "#d8576b"
             ],
             [
              0.6666666666666666,
              "#ed7953"
             ],
             [
              0.7777777777777778,
              "#fb9f3a"
             ],
             [
              0.8888888888888888,
              "#fdca26"
             ],
             [
              1,
              "#f0f921"
             ]
            ],
            "type": "histogram2dcontour"
           }
          ],
          "mesh3d": [
           {
            "colorbar": {
             "outlinewidth": 0,
             "ticks": ""
            },
            "type": "mesh3d"
           }
          ],
          "parcoords": [
           {
            "line": {
             "colorbar": {
              "outlinewidth": 0,
              "ticks": ""
             }
            },
            "type": "parcoords"
           }
          ],
          "pie": [
           {
            "automargin": true,
            "type": "pie"
           }
          ],
          "scatter": [
           {
            "fillpattern": {
             "fillmode": "overlay",
             "size": 10,
             "solidity": 0.2
            },
            "type": "scatter"
           }
          ],
          "scatter3d": [
           {
            "line": {
             "colorbar": {
              "outlinewidth": 0,
              "ticks": ""
             }
            },
            "marker": {
             "colorbar": {
              "outlinewidth": 0,
              "ticks": ""
             }
            },
            "type": "scatter3d"
           }
          ],
          "scattercarpet": [
           {
            "marker": {
             "colorbar": {
              "outlinewidth": 0,
              "ticks": ""
             }
            },
            "type": "scattercarpet"
           }
          ],
          "scattergeo": [
           {
            "marker": {
             "colorbar": {
              "outlinewidth": 0,
              "ticks": ""
             }
            },
            "type": "scattergeo"
           }
          ],
          "scattergl": [
           {
            "marker": {
             "colorbar": {
              "outlinewidth": 0,
              "ticks": ""
             }
            },
            "type": "scattergl"
           }
          ],
          "scattermap": [
           {
            "marker": {
             "colorbar": {
              "outlinewidth": 0,
              "ticks": ""
             }
            },
            "type": "scattermap"
           }
          ],
          "scattermapbox": [
           {
            "marker": {
             "colorbar": {
              "outlinewidth": 0,
              "ticks": ""
             }
            },
            "type": "scattermapbox"
           }
          ],
          "scatterpolar": [
           {
            "marker": {
             "colorbar": {
              "outlinewidth": 0,
              "ticks": ""
             }
            },
            "type": "scatterpolar"
           }
          ],
          "scatterpolargl": [
           {
            "marker": {
             "colorbar": {
              "outlinewidth": 0,
              "ticks": ""
             }
            },
            "type": "scatterpolargl"
           }
          ],
          "scatterternary": [
           {
            "marker": {
             "colorbar": {
              "outlinewidth": 0,
              "ticks": ""
             }
            },
            "type": "scatterternary"
           }
          ],
          "surface": [
           {
            "colorbar": {
             "outlinewidth": 0,
             "ticks": ""
            },
            "colorscale": [
             [
              0,
              "#0d0887"
             ],
             [
              0.1111111111111111,
              "#46039f"
             ],
             [
              0.2222222222222222,
              "#7201a8"
             ],
             [
              0.3333333333333333,
              "#9c179e"
             ],
             [
              0.4444444444444444,
              "#bd3786"
             ],
             [
              0.5555555555555556,
              "#d8576b"
             ],
             [
              0.6666666666666666,
              "#ed7953"
             ],
             [
              0.7777777777777778,
              "#fb9f3a"
             ],
             [
              0.8888888888888888,
              "#fdca26"
             ],
             [
              1,
              "#f0f921"
             ]
            ],
            "type": "surface"
           }
          ],
          "table": [
           {
            "cells": {
             "fill": {
              "color": "#EBF0F8"
             },
             "line": {
              "color": "white"
             }
            },
            "header": {
             "fill": {
              "color": "#C8D4E3"
             },
             "line": {
              "color": "white"
             }
            },
            "type": "table"
           }
          ]
         },
         "layout": {
          "annotationdefaults": {
           "arrowcolor": "#2a3f5f",
           "arrowhead": 0,
           "arrowwidth": 1
          },
          "autotypenumbers": "strict",
          "coloraxis": {
           "colorbar": {
            "outlinewidth": 0,
            "ticks": ""
           }
          },
          "colorscale": {
           "diverging": [
            [
             0,
             "#8e0152"
            ],
            [
             0.1,
             "#c51b7d"
            ],
            [
             0.2,
             "#de77ae"
            ],
            [
             0.3,
             "#f1b6da"
            ],
            [
             0.4,
             "#fde0ef"
            ],
            [
             0.5,
             "#f7f7f7"
            ],
            [
             0.6,
             "#e6f5d0"
            ],
            [
             0.7,
             "#b8e186"
            ],
            [
             0.8,
             "#7fbc41"
            ],
            [
             0.9,
             "#4d9221"
            ],
            [
             1,
             "#276419"
            ]
           ],
           "sequential": [
            [
             0,
             "#0d0887"
            ],
            [
             0.1111111111111111,
             "#46039f"
            ],
            [
             0.2222222222222222,
             "#7201a8"
            ],
            [
             0.3333333333333333,
             "#9c179e"
            ],
            [
             0.4444444444444444,
             "#bd3786"
            ],
            [
             0.5555555555555556,
             "#d8576b"
            ],
            [
             0.6666666666666666,
             "#ed7953"
            ],
            [
             0.7777777777777778,
             "#fb9f3a"
            ],
            [
             0.8888888888888888,
             "#fdca26"
            ],
            [
             1,
             "#f0f921"
            ]
           ],
           "sequentialminus": [
            [
             0,
             "#0d0887"
            ],
            [
             0.1111111111111111,
             "#46039f"
            ],
            [
             0.2222222222222222,
             "#7201a8"
            ],
            [
             0.3333333333333333,
             "#9c179e"
            ],
            [
             0.4444444444444444,
             "#bd3786"
            ],
            [
             0.5555555555555556,
             "#d8576b"
            ],
            [
             0.6666666666666666,
             "#ed7953"
            ],
            [
             0.7777777777777778,
             "#fb9f3a"
            ],
            [
             0.8888888888888888,
             "#fdca26"
            ],
            [
             1,
             "#f0f921"
            ]
           ]
          },
          "colorway": [
           "#636efa",
           "#EF553B",
           "#00cc96",
           "#ab63fa",
           "#FFA15A",
           "#19d3f3",
           "#FF6692",
           "#B6E880",
           "#FF97FF",
           "#FECB52"
          ],
          "font": {
           "color": "#2a3f5f"
          },
          "geo": {
           "bgcolor": "white",
           "lakecolor": "white",
           "landcolor": "#E5ECF6",
           "showlakes": true,
           "showland": true,
           "subunitcolor": "white"
          },
          "hoverlabel": {
           "align": "left"
          },
          "hovermode": "closest",
          "mapbox": {
           "style": "light"
          },
          "paper_bgcolor": "white",
          "plot_bgcolor": "#E5ECF6",
          "polar": {
           "angularaxis": {
            "gridcolor": "white",
            "linecolor": "white",
            "ticks": ""
           },
           "bgcolor": "#E5ECF6",
           "radialaxis": {
            "gridcolor": "white",
            "linecolor": "white",
            "ticks": ""
           }
          },
          "scene": {
           "xaxis": {
            "backgroundcolor": "#E5ECF6",
            "gridcolor": "white",
            "gridwidth": 2,
            "linecolor": "white",
            "showbackground": true,
            "ticks": "",
            "zerolinecolor": "white"
           },
           "yaxis": {
            "backgroundcolor": "#E5ECF6",
            "gridcolor": "white",
            "gridwidth": 2,
            "linecolor": "white",
            "showbackground": true,
            "ticks": "",
            "zerolinecolor": "white"
           },
           "zaxis": {
            "backgroundcolor": "#E5ECF6",
            "gridcolor": "white",
            "gridwidth": 2,
            "linecolor": "white",
            "showbackground": true,
            "ticks": "",
            "zerolinecolor": "white"
           }
          },
          "shapedefaults": {
           "line": {
            "color": "#2a3f5f"
           }
          },
          "ternary": {
           "aaxis": {
            "gridcolor": "white",
            "linecolor": "white",
            "ticks": ""
           },
           "baxis": {
            "gridcolor": "white",
            "linecolor": "white",
            "ticks": ""
           },
           "bgcolor": "#E5ECF6",
           "caxis": {
            "gridcolor": "white",
            "linecolor": "white",
            "ticks": ""
           }
          },
          "title": {
           "x": 0.05
          },
          "xaxis": {
           "automargin": true,
           "gridcolor": "white",
           "linecolor": "white",
           "ticks": "",
           "title": {
            "standoff": 15
           },
           "zerolinecolor": "white",
           "zerolinewidth": 2
          },
          "yaxis": {
           "automargin": true,
           "gridcolor": "white",
           "linecolor": "white",
           "ticks": "",
           "title": {
            "standoff": 15
           },
           "zerolinecolor": "white",
           "zerolinewidth": 2
          }
         }
        },
        "title": {
         "text": "Content added per year by type"
        },
        "xaxis": {
         "anchor": "y",
         "domain": [
          0,
          1
         ],
         "title": {
          "text": "Year"
         }
        },
        "yaxis": {
         "anchor": "x",
         "domain": [
          0,
          1
         ],
         "title": {
          "text": "Number of titles"
         }
        }
       }
      }
     },
     "metadata": {},
     "output_type": "display_data"
    }
   ],
   "source": [
    "# Content added per year (interactive plotly)\n",
    "year_counts = dfc.groupby(['year_added','type']).size().reset_index(name='count').dropna(subset=['year_added'])\n",
    "fig = px.area(year_counts, x='year_added', y='count', color='type', title='Content added per year by type', labels={'year_added':'Year','count':'Number of titles'})\n",
    "fig.show()"
   ]
  },
  {
   "cell_type": "markdown",
   "id": "33e47536",
   "metadata": {},
   "source": [
    "### 3.3 Overall Genre Distribution"
   ]
  },
  {
   "cell_type": "code",
   "execution_count": 7,
   "id": "ba8e00ca",
   "metadata": {},
   "outputs": [
    {
     "data": {
      "application/vnd.plotly.v1+json": {
       "config": {
        "plotlyServerURL": "https://plot.ly"
       },
       "data": [
        {
         "hovertemplate": "Genre=Dramas<br>Year Added=%{x}<br>Number of Titles=%{y}<extra></extra>",
         "legendgroup": "Dramas",
         "line": {
          "color": "#636efa",
          "dash": "solid"
         },
         "marker": {
          "symbol": "circle"
         },
         "mode": "lines+markers",
         "name": "Dramas",
         "orientation": "v",
         "showlegend": true,
         "type": "scatter",
         "x": {
          "bdata": "AAAAAABgn0AAAAAAAGSfQAAAAAAAbJ9AAAAAAAB8n0AAAAAAAICfQAAAAAAAhJ9AAAAAAACIn0AAAAAAAIyfQAAAAAAAkJ9AAAAAAACUn0A=",
          "dtype": "f8"
         },
         "xaxis": "x",
         "y": {
          "bdata": "AQABAA0ADABDACkBFgJVAiQCJgA=",
          "dtype": "i2"
         },
         "yaxis": "y"
        },
        {
         "hovertemplate": "Genre=International Movies<br>Year Added=%{x}<br>Number of Titles=%{y}<extra></extra>",
         "legendgroup": "International Movies",
         "line": {
          "color": "#EF553B",
          "dash": "solid"
         },
         "marker": {
          "symbol": "circle"
         },
         "mode": "lines+markers",
         "name": "International Movies",
         "orientation": "v",
         "showlegend": true,
         "type": "scatter",
         "x": {
          "bdata": "AAAAAABkn0AAAAAAAGyfQAAAAAAAeJ9AAAAAAAB8n0AAAAAAAICfQAAAAAAAhJ9AAAAAAACIn0AAAAAAAIyfQAAAAAAAkJ9AAAAAAACUn0A=",
          "dtype": "f8"
         },
         "xaxis": "x",
         "y": {
          "bdata": "AQABAAIACgBVAKIBpQKBAkICGAA=",
          "dtype": "i2"
         },
         "yaxis": "y"
        },
        {
         "hovertemplate": "Genre=Comedies<br>Year Added=%{x}<br>Number of Titles=%{y}<extra></extra>",
         "legendgroup": "Comedies",
         "line": {
          "color": "#00cc96",
          "dash": "solid"
         },
         "marker": {
          "symbol": "circle"
         },
         "mode": "lines+markers",
         "name": "Comedies",
         "orientation": "v",
         "showlegend": true,
         "type": "scatter",
         "x": {
          "bdata": "AAAAAABwn0AAAAAAAHSfQAAAAAAAeJ9AAAAAAAB8n0AAAAAAAICfQAAAAAAAhJ9AAAAAAACIn0AAAAAAAIyfQAAAAAAAkJ9AAAAAAACUn0A=",
          "dtype": "f8"
         },
         "xaxis": "x",
         "y": {
          "bdata": "AgABAAIADAAxAL8ALQHEAakBJQA=",
          "dtype": "i2"
         },
         "yaxis": "y"
        },
        {
         "hovertemplate": "Genre=Documentaries<br>Year Added=%{x}<br>Number of Titles=%{y}<extra></extra>",
         "legendgroup": "Documentaries",
         "line": {
          "color": "#ab63fa",
          "dash": "solid"
         },
         "marker": {
          "symbol": "circle"
         },
         "mode": "lines+markers",
         "name": "Documentaries",
         "orientation": "v",
         "showlegend": true,
         "type": "scatter",
         "x": {
          "bdata": "AAAAAABwn0AAAAAAAHSfQAAAAAAAeJ9AAAAAAAB8n0AAAAAAAICfQAAAAAAAhJ9AAAAAAACIn0AAAAAAAIyfQAAAAAAAkJ9AAAAAAACUn0A=",
          "dtype": "f8"
         },
         "xaxis": "x",
         "y": {
          "bdata": "AQABAAgADQBFAM4AqgC9AHgACQA=",
          "dtype": "i2"
         },
         "yaxis": "y"
        },
        {
         "hovertemplate": "Genre=International TV Shows<br>Year Added=%{x}<br>Number of Titles=%{y}<extra></extra>",
         "legendgroup": "International TV Shows",
         "line": {
          "color": "#FFA15A",
          "dash": "solid"
         },
         "marker": {
          "symbol": "circle"
         },
         "mode": "lines+markers",
         "name": "International TV Shows",
         "orientation": "v",
         "showlegend": true,
         "type": "scatter",
         "x": {
          "bdata": "AAAAAAB0n0AAAAAAAHyfQAAAAAAAgJ9AAAAAAACEn0AAAAAAAIifQAAAAAAAjJ9AAAAAAACQn0AAAAAAAJSfQA==",
          "dtype": "f8"
         },
         "xaxis": "x",
         "y": {
          "bdata": "AQADAFkAxgDaAGMBMgEGAA==",
          "dtype": "i2"
         },
         "yaxis": "y"
        }
       ],
       "layout": {
        "legend": {
         "title": {
          "text": "Genre"
         },
         "tracegroupgap": 0
        },
        "template": {
         "data": {
          "bar": [
           {
            "error_x": {
             "color": "#2a3f5f"
            },
            "error_y": {
             "color": "#2a3f5f"
            },
            "marker": {
             "line": {
              "color": "#E5ECF6",
              "width": 0.5
             },
             "pattern": {
              "fillmode": "overlay",
              "size": 10,
              "solidity": 0.2
             }
            },
            "type": "bar"
           }
          ],
          "barpolar": [
           {
            "marker": {
             "line": {
              "color": "#E5ECF6",
              "width": 0.5
             },
             "pattern": {
              "fillmode": "overlay",
              "size": 10,
              "solidity": 0.2
             }
            },
            "type": "barpolar"
           }
          ],
          "carpet": [
           {
            "aaxis": {
             "endlinecolor": "#2a3f5f",
             "gridcolor": "white",
             "linecolor": "white",
             "minorgridcolor": "white",
             "startlinecolor": "#2a3f5f"
            },
            "baxis": {
             "endlinecolor": "#2a3f5f",
             "gridcolor": "white",
             "linecolor": "white",
             "minorgridcolor": "white",
             "startlinecolor": "#2a3f5f"
            },
            "type": "carpet"
           }
          ],
          "choropleth": [
           {
            "colorbar": {
             "outlinewidth": 0,
             "ticks": ""
            },
            "type": "choropleth"
           }
          ],
          "contour": [
           {
            "colorbar": {
             "outlinewidth": 0,
             "ticks": ""
            },
            "colorscale": [
             [
              0,
              "#0d0887"
             ],
             [
              0.1111111111111111,
              "#46039f"
             ],
             [
              0.2222222222222222,
              "#7201a8"
             ],
             [
              0.3333333333333333,
              "#9c179e"
             ],
             [
              0.4444444444444444,
              "#bd3786"
             ],
             [
              0.5555555555555556,
              "#d8576b"
             ],
             [
              0.6666666666666666,
              "#ed7953"
             ],
             [
              0.7777777777777778,
              "#fb9f3a"
             ],
             [
              0.8888888888888888,
              "#fdca26"
             ],
             [
              1,
              "#f0f921"
             ]
            ],
            "type": "contour"
           }
          ],
          "contourcarpet": [
           {
            "colorbar": {
             "outlinewidth": 0,
             "ticks": ""
            },
            "type": "contourcarpet"
           }
          ],
          "heatmap": [
           {
            "colorbar": {
             "outlinewidth": 0,
             "ticks": ""
            },
            "colorscale": [
             [
              0,
              "#0d0887"
             ],
             [
              0.1111111111111111,
              "#46039f"
             ],
             [
              0.2222222222222222,
              "#7201a8"
             ],
             [
              0.3333333333333333,
              "#9c179e"
             ],
             [
              0.4444444444444444,
              "#bd3786"
             ],
             [
              0.5555555555555556,
              "#d8576b"
             ],
             [
              0.6666666666666666,
              "#ed7953"
             ],
             [
              0.7777777777777778,
              "#fb9f3a"
             ],
             [
              0.8888888888888888,
              "#fdca26"
             ],
             [
              1,
              "#f0f921"
             ]
            ],
            "type": "heatmap"
           }
          ],
          "histogram": [
           {
            "marker": {
             "pattern": {
              "fillmode": "overlay",
              "size": 10,
              "solidity": 0.2
             }
            },
            "type": "histogram"
           }
          ],
          "histogram2d": [
           {
            "colorbar": {
             "outlinewidth": 0,
             "ticks": ""
            },
            "colorscale": [
             [
              0,
              "#0d0887"
             ],
             [
              0.1111111111111111,
              "#46039f"
             ],
             [
              0.2222222222222222,
              "#7201a8"
             ],
             [
              0.3333333333333333,
              "#9c179e"
             ],
             [
              0.4444444444444444,
              "#bd3786"
             ],
             [
              0.5555555555555556,
              "#d8576b"
             ],
             [
              0.6666666666666666,
              "#ed7953"
             ],
             [
              0.7777777777777778,
              "#fb9f3a"
             ],
             [
              0.8888888888888888,
              "#fdca26"
             ],
             [
              1,
              "#f0f921"
             ]
            ],
            "type": "histogram2d"
           }
          ],
          "histogram2dcontour": [
           {
            "colorbar": {
             "outlinewidth": 0,
             "ticks": ""
            },
            "colorscale": [
             [
              0,
              "#0d0887"
             ],
             [
              0.1111111111111111,
              "#46039f"
             ],
             [
              0.2222222222222222,
              "#7201a8"
             ],
             [
              0.3333333333333333,
              "#9c179e"
             ],
             [
              0.4444444444444444,
              "#bd3786"
             ],
             [
              0.5555555555555556,
              "#d8576b"
             ],
             [
              0.6666666666666666,
              "#ed7953"
             ],
             [
              0.7777777777777778,
              "#fb9f3a"
             ],
             [
              0.8888888888888888,
              "#fdca26"
             ],
             [
              1,
              "#f0f921"
             ]
            ],
            "type": "histogram2dcontour"
           }
          ],
          "mesh3d": [
           {
            "colorbar": {
             "outlinewidth": 0,
             "ticks": ""
            },
            "type": "mesh3d"
           }
          ],
          "parcoords": [
           {
            "line": {
             "colorbar": {
              "outlinewidth": 0,
              "ticks": ""
             }
            },
            "type": "parcoords"
           }
          ],
          "pie": [
           {
            "automargin": true,
            "type": "pie"
           }
          ],
          "scatter": [
           {
            "fillpattern": {
             "fillmode": "overlay",
             "size": 10,
             "solidity": 0.2
            },
            "type": "scatter"
           }
          ],
          "scatter3d": [
           {
            "line": {
             "colorbar": {
              "outlinewidth": 0,
              "ticks": ""
             }
            },
            "marker": {
             "colorbar": {
              "outlinewidth": 0,
              "ticks": ""
             }
            },
            "type": "scatter3d"
           }
          ],
          "scattercarpet": [
           {
            "marker": {
             "colorbar": {
              "outlinewidth": 0,
              "ticks": ""
             }
            },
            "type": "scattercarpet"
           }
          ],
          "scattergeo": [
           {
            "marker": {
             "colorbar": {
              "outlinewidth": 0,
              "ticks": ""
             }
            },
            "type": "scattergeo"
           }
          ],
          "scattergl": [
           {
            "marker": {
             "colorbar": {
              "outlinewidth": 0,
              "ticks": ""
             }
            },
            "type": "scattergl"
           }
          ],
          "scattermap": [
           {
            "marker": {
             "colorbar": {
              "outlinewidth": 0,
              "ticks": ""
             }
            },
            "type": "scattermap"
           }
          ],
          "scattermapbox": [
           {
            "marker": {
             "colorbar": {
              "outlinewidth": 0,
              "ticks": ""
             }
            },
            "type": "scattermapbox"
           }
          ],
          "scatterpolar": [
           {
            "marker": {
             "colorbar": {
              "outlinewidth": 0,
              "ticks": ""
             }
            },
            "type": "scatterpolar"
           }
          ],
          "scatterpolargl": [
           {
            "marker": {
             "colorbar": {
              "outlinewidth": 0,
              "ticks": ""
             }
            },
            "type": "scatterpolargl"
           }
          ],
          "scatterternary": [
           {
            "marker": {
             "colorbar": {
              "outlinewidth": 0,
              "ticks": ""
             }
            },
            "type": "scatterternary"
           }
          ],
          "surface": [
           {
            "colorbar": {
             "outlinewidth": 0,
             "ticks": ""
            },
            "colorscale": [
             [
              0,
              "#0d0887"
             ],
             [
              0.1111111111111111,
              "#46039f"
             ],
             [
              0.2222222222222222,
              "#7201a8"
             ],
             [
              0.3333333333333333,
              "#9c179e"
             ],
             [
              0.4444444444444444,
              "#bd3786"
             ],
             [
              0.5555555555555556,
              "#d8576b"
             ],
             [
              0.6666666666666666,
              "#ed7953"
             ],
             [
              0.7777777777777778,
              "#fb9f3a"
             ],
             [
              0.8888888888888888,
              "#fdca26"
             ],
             [
              1,
              "#f0f921"
             ]
            ],
            "type": "surface"
           }
          ],
          "table": [
           {
            "cells": {
             "fill": {
              "color": "#EBF0F8"
             },
             "line": {
              "color": "white"
             }
            },
            "header": {
             "fill": {
              "color": "#C8D4E3"
             },
             "line": {
              "color": "white"
             }
            },
            "type": "table"
           }
          ]
         },
         "layout": {
          "annotationdefaults": {
           "arrowcolor": "#2a3f5f",
           "arrowhead": 0,
           "arrowwidth": 1
          },
          "autotypenumbers": "strict",
          "coloraxis": {
           "colorbar": {
            "outlinewidth": 0,
            "ticks": ""
           }
          },
          "colorscale": {
           "diverging": [
            [
             0,
             "#8e0152"
            ],
            [
             0.1,
             "#c51b7d"
            ],
            [
             0.2,
             "#de77ae"
            ],
            [
             0.3,
             "#f1b6da"
            ],
            [
             0.4,
             "#fde0ef"
            ],
            [
             0.5,
             "#f7f7f7"
            ],
            [
             0.6,
             "#e6f5d0"
            ],
            [
             0.7,
             "#b8e186"
            ],
            [
             0.8,
             "#7fbc41"
            ],
            [
             0.9,
             "#4d9221"
            ],
            [
             1,
             "#276419"
            ]
           ],
           "sequential": [
            [
             0,
             "#0d0887"
            ],
            [
             0.1111111111111111,
             "#46039f"
            ],
            [
             0.2222222222222222,
             "#7201a8"
            ],
            [
             0.3333333333333333,
             "#9c179e"
            ],
            [
             0.4444444444444444,
             "#bd3786"
            ],
            [
             0.5555555555555556,
             "#d8576b"
            ],
            [
             0.6666666666666666,
             "#ed7953"
            ],
            [
             0.7777777777777778,
             "#fb9f3a"
            ],
            [
             0.8888888888888888,
             "#fdca26"
            ],
            [
             1,
             "#f0f921"
            ]
           ],
           "sequentialminus": [
            [
             0,
             "#0d0887"
            ],
            [
             0.1111111111111111,
             "#46039f"
            ],
            [
             0.2222222222222222,
             "#7201a8"
            ],
            [
             0.3333333333333333,
             "#9c179e"
            ],
            [
             0.4444444444444444,
             "#bd3786"
            ],
            [
             0.5555555555555556,
             "#d8576b"
            ],
            [
             0.6666666666666666,
             "#ed7953"
            ],
            [
             0.7777777777777778,
             "#fb9f3a"
            ],
            [
             0.8888888888888888,
             "#fdca26"
            ],
            [
             1,
             "#f0f921"
            ]
           ]
          },
          "colorway": [
           "#636efa",
           "#EF553B",
           "#00cc96",
           "#ab63fa",
           "#FFA15A",
           "#19d3f3",
           "#FF6692",
           "#B6E880",
           "#FF97FF",
           "#FECB52"
          ],
          "font": {
           "color": "#2a3f5f"
          },
          "geo": {
           "bgcolor": "white",
           "lakecolor": "white",
           "landcolor": "#E5ECF6",
           "showlakes": true,
           "showland": true,
           "subunitcolor": "white"
          },
          "hoverlabel": {
           "align": "left"
          },
          "hovermode": "closest",
          "mapbox": {
           "style": "light"
          },
          "paper_bgcolor": "white",
          "plot_bgcolor": "#E5ECF6",
          "polar": {
           "angularaxis": {
            "gridcolor": "white",
            "linecolor": "white",
            "ticks": ""
           },
           "bgcolor": "#E5ECF6",
           "radialaxis": {
            "gridcolor": "white",
            "linecolor": "white",
            "ticks": ""
           }
          },
          "scene": {
           "xaxis": {
            "backgroundcolor": "#E5ECF6",
            "gridcolor": "white",
            "gridwidth": 2,
            "linecolor": "white",
            "showbackground": true,
            "ticks": "",
            "zerolinecolor": "white"
           },
           "yaxis": {
            "backgroundcolor": "#E5ECF6",
            "gridcolor": "white",
            "gridwidth": 2,
            "linecolor": "white",
            "showbackground": true,
            "ticks": "",
            "zerolinecolor": "white"
           },
           "zaxis": {
            "backgroundcolor": "#E5ECF6",
            "gridcolor": "white",
            "gridwidth": 2,
            "linecolor": "white",
            "showbackground": true,
            "ticks": "",
            "zerolinecolor": "white"
           }
          },
          "shapedefaults": {
           "line": {
            "color": "#2a3f5f"
           }
          },
          "ternary": {
           "aaxis": {
            "gridcolor": "white",
            "linecolor": "white",
            "ticks": ""
           },
           "baxis": {
            "gridcolor": "white",
            "linecolor": "white",
            "ticks": ""
           },
           "bgcolor": "#E5ECF6",
           "caxis": {
            "gridcolor": "white",
            "linecolor": "white",
            "ticks": ""
           }
          },
          "title": {
           "x": 0.05
          },
          "xaxis": {
           "automargin": true,
           "gridcolor": "white",
           "linecolor": "white",
           "ticks": "",
           "title": {
            "standoff": 15
           },
           "zerolinecolor": "white",
           "zerolinewidth": 2
          },
          "yaxis": {
           "automargin": true,
           "gridcolor": "white",
           "linecolor": "white",
           "ticks": "",
           "title": {
            "standoff": 15
           },
           "zerolinecolor": "white",
           "zerolinewidth": 2
          }
         }
        },
        "title": {
         "text": "Top 5 Genre Trends Over Time"
        },
        "xaxis": {
         "anchor": "y",
         "domain": [
          0,
          1
         ],
         "title": {
          "text": "Year Added"
         }
        },
        "yaxis": {
         "anchor": "x",
         "domain": [
          0,
          1
         ],
         "title": {
          "text": "Number of Titles"
         }
        }
       }
      }
     },
     "metadata": {},
     "output_type": "display_data"
    },
    {
     "name": "stdout",
     "output_type": "stream",
     "text": [
      "\n",
      "Top 5 Genres:\n",
      "1. International Movies\n",
      "2. Dramas\n",
      "3. Comedies\n",
      "4. International TV Shows\n",
      "5. Documentaries\n"
     ]
    }
   ],
   "source": [
    "# Analyze how top genres have evolved over time\n",
    "# Filter out empty genres and NaN years\n",
    "df_genre_time = df_genre[(df_genre['genre'].notna()) & (df_genre['genre'] != '') & (df_genre['year_added'].notna())].copy()\n",
    "\n",
    "# Get top 5 genres overall\n",
    "top_5_genres = df_genre_time['genre'].value_counts().head(5).index.tolist()\n",
    "\n",
    "# Count by year and genre for top 5 genres\n",
    "genre_year_counts = df_genre_time[df_genre_time['genre'].isin(top_5_genres)].groupby(['year_added', 'genre']).size().reset_index(name='count')\n",
    "\n",
    "# Plot genre trends over time\n",
    "fig = px.line(genre_year_counts, x='year_added', y='count', color='genre', \n",
    "              title='Top 5 Genre Trends Over Time',\n",
    "              labels={'year_added': 'Year Added', 'count': 'Number of Titles', 'genre': 'Genre'},\n",
    "              markers=True)\n",
    "fig.show()\n",
    "\n",
    "print(\"\\nTop 5 Genres:\")\n",
    "for i, genre in enumerate(top_5_genres, 1):\n",
    "    print(f\"{i}. {genre}\")"
   ]
  },
  {
   "cell_type": "markdown",
   "id": "b4e54e4b",
   "metadata": {},
   "source": [
    "### 3.3 Genre Trends Over Time (Required by Problem Statement)"
   ]
  },
  {
   "cell_type": "code",
   "execution_count": 8,
   "id": "ff536626",
   "metadata": {},
   "outputs": [
    {
     "data": {
      "image/png": "[encoded data removed]",
      "text/plain": [
       "<Figure size 1000x500 with 1 Axes>"
      ]
     },
     "metadata": {},
     "output_type": "display_data"
    },
    {
     "data": {
      "text/html": [
       "<div>\n",
       "<style scoped>\n",
       "    .dataframe tbody tr th:only-of-type {\n",
       "        vertical-align: middle;\n",
       "    }\n",
       "\n",
       "    .dataframe tbody tr th {\n",
       "        vertical-align: top;\n",
       "    }\n",
       "\n",
       "    .dataframe thead th {\n",
       "        text-align: right;\n",
       "    }\n",
       "</style>\n",
       "<table border=\"1\" class=\"dataframe\">\n",
       "  <thead>\n",
       "    <tr style=\"text-align: right;\">\n",
       "      <th></th>\n",
       "      <th>genre</th>\n",
       "      <th>count</th>\n",
       "    </tr>\n",
       "  </thead>\n",
       "  <tbody>\n",
       "    <tr>\n",
       "      <th>0</th>\n",
       "      <td>International Movies</td>\n",
       "      <td>2437</td>\n",
       "    </tr>\n",
       "    <tr>\n",
       "      <th>1</th>\n",
       "      <td>Dramas</td>\n",
       "      <td>2108</td>\n",
       "    </tr>\n",
       "    <tr>\n",
       "      <th>2</th>\n",
       "      <td>Comedies</td>\n",
       "      <td>1472</td>\n",
       "    </tr>\n",
       "    <tr>\n",
       "      <th>3</th>\n",
       "      <td>International TV Shows</td>\n",
       "      <td>1199</td>\n",
       "    </tr>\n",
       "    <tr>\n",
       "      <th>4</th>\n",
       "      <td>Documentaries</td>\n",
       "      <td>786</td>\n",
       "    </tr>\n",
       "    <tr>\n",
       "      <th>5</th>\n",
       "      <td>Action &amp; Adventure</td>\n",
       "      <td>721</td>\n",
       "    </tr>\n",
       "    <tr>\n",
       "      <th>6</th>\n",
       "      <td>TV Dramas</td>\n",
       "      <td>704</td>\n",
       "    </tr>\n",
       "    <tr>\n",
       "      <th>7</th>\n",
       "      <td>Independent Movies</td>\n",
       "      <td>675</td>\n",
       "    </tr>\n",
       "    <tr>\n",
       "      <th>8</th>\n",
       "      <td>Children &amp; Family Movies</td>\n",
       "      <td>532</td>\n",
       "    </tr>\n",
       "    <tr>\n",
       "      <th>9</th>\n",
       "      <td>Romantic Movies</td>\n",
       "      <td>531</td>\n",
       "    </tr>\n",
       "    <tr>\n",
       "      <th>10</th>\n",
       "      <td>TV Comedies</td>\n",
       "      <td>525</td>\n",
       "    </tr>\n",
       "    <tr>\n",
       "      <th>11</th>\n",
       "      <td>Thrillers</td>\n",
       "      <td>492</td>\n",
       "    </tr>\n",
       "    <tr>\n",
       "      <th>12</th>\n",
       "      <td>Crime TV Shows</td>\n",
       "      <td>427</td>\n",
       "    </tr>\n",
       "    <tr>\n",
       "      <th>13</th>\n",
       "      <td>Kids' TV</td>\n",
       "      <td>414</td>\n",
       "    </tr>\n",
       "    <tr>\n",
       "      <th>14</th>\n",
       "      <td>Docuseries</td>\n",
       "      <td>353</td>\n",
       "    </tr>\n",
       "  </tbody>\n",
       "</table>\n",
       "</div>"
      ],
      "text/plain": [
       "                       genre  count\n",
       "0       International Movies   2437\n",
       "1                     Dramas   2108\n",
       "2                   Comedies   1472\n",
       "3     International TV Shows   1199\n",
       "4              Documentaries    786\n",
       "5         Action & Adventure    721\n",
       "6                  TV Dramas    704\n",
       "7         Independent Movies    675\n",
       "8   Children & Family Movies    532\n",
       "9            Romantic Movies    531\n",
       "10               TV Comedies    525\n",
       "11                 Thrillers    492\n",
       "12            Crime TV Shows    427\n",
       "13                  Kids' TV    414\n",
       "14                Docuseries    353"
      ]
     },
     "metadata": {},
     "output_type": "display_data"
    }
   ],
   "source": [
    "# Top genres (exploded)\n",
    "top_genres = df_genre['genre'].value_counts().head(15)\n",
    "top_genres_df = top_genres.reset_index()\n",
    "top_genres_df.columns = ['genre','count']\n",
    "# Matplotlib bar\n",
    "plt.figure(figsize=(10,5))\n",
    "plt.bar(top_genres_df['genre'], top_genres_df['count'])\n",
    "plt.xticks(rotation=45, ha='right')\n",
    "plt.ylabel('Count')\n",
    "plt.title('Top 15 Genres')\n",
    "plt.tight_layout()\n",
    "plt.show()\n",
    "\n",
    "display(top_genres_df)"
   ]
  },
  {
   "cell_type": "markdown",
   "id": "3dbc7b24",
   "metadata": {},
   "source": [
    "### 3.5 Country-wise Content Contributions (Required by Problem Statement)"
   ]
  },
  {
   "cell_type": "code",
   "execution_count": 9,
   "id": "e4fac041",
   "metadata": {},
   "outputs": [
    {
     "data": {
      "image/png": "[encoded data removed]",
      "text/plain": [
       "<Figure size 1000x500 with 1 Axes>"
      ]
     },
     "metadata": {},
     "output_type": "display_data"
    },
    {
     "data": {
      "text/html": [
       "<div>\n",
       "<style scoped>\n",
       "    .dataframe tbody tr th:only-of-type {\n",
       "        vertical-align: middle;\n",
       "    }\n",
       "\n",
       "    .dataframe tbody tr th {\n",
       "        vertical-align: top;\n",
       "    }\n",
       "\n",
       "    .dataframe thead th {\n",
       "        text-align: right;\n",
       "    }\n",
       "</style>\n",
       "<table border=\"1\" class=\"dataframe\">\n",
       "  <thead>\n",
       "    <tr style=\"text-align: right;\">\n",
       "      <th></th>\n",
       "      <th>country</th>\n",
       "      <th>count</th>\n",
       "    </tr>\n",
       "  </thead>\n",
       "  <tbody>\n",
       "    <tr>\n",
       "      <th>0</th>\n",
       "      <td>United States</td>\n",
       "      <td>3297</td>\n",
       "    </tr>\n",
       "    <tr>\n",
       "      <th>1</th>\n",
       "      <td>India</td>\n",
       "      <td>990</td>\n",
       "    </tr>\n",
       "    <tr>\n",
       "      <th>2</th>\n",
       "      <td>United Kingdom</td>\n",
       "      <td>722</td>\n",
       "    </tr>\n",
       "    <tr>\n",
       "      <th>3</th>\n",
       "      <td></td>\n",
       "      <td>507</td>\n",
       "    </tr>\n",
       "    <tr>\n",
       "      <th>4</th>\n",
       "      <td>Canada</td>\n",
       "      <td>412</td>\n",
       "    </tr>\n",
       "    <tr>\n",
       "      <th>5</th>\n",
       "      <td>France</td>\n",
       "      <td>349</td>\n",
       "    </tr>\n",
       "    <tr>\n",
       "      <th>6</th>\n",
       "      <td>Japan</td>\n",
       "      <td>287</td>\n",
       "    </tr>\n",
       "    <tr>\n",
       "      <th>7</th>\n",
       "      <td>Spain</td>\n",
       "      <td>215</td>\n",
       "    </tr>\n",
       "    <tr>\n",
       "      <th>8</th>\n",
       "      <td>South Korea</td>\n",
       "      <td>212</td>\n",
       "    </tr>\n",
       "    <tr>\n",
       "      <th>9</th>\n",
       "      <td>Germany</td>\n",
       "      <td>199</td>\n",
       "    </tr>\n",
       "    <tr>\n",
       "      <th>10</th>\n",
       "      <td>Mexico</td>\n",
       "      <td>154</td>\n",
       "    </tr>\n",
       "    <tr>\n",
       "      <th>11</th>\n",
       "      <td>China</td>\n",
       "      <td>147</td>\n",
       "    </tr>\n",
       "    <tr>\n",
       "      <th>12</th>\n",
       "      <td>Australia</td>\n",
       "      <td>144</td>\n",
       "    </tr>\n",
       "    <tr>\n",
       "      <th>13</th>\n",
       "      <td>Egypt</td>\n",
       "      <td>110</td>\n",
       "    </tr>\n",
       "    <tr>\n",
       "      <th>14</th>\n",
       "      <td>Turkey</td>\n",
       "      <td>108</td>\n",
       "    </tr>\n",
       "  </tbody>\n",
       "</table>\n",
       "</div>"
      ],
      "text/plain": [
       "           country  count\n",
       "0    United States   3297\n",
       "1            India    990\n",
       "2   United Kingdom    722\n",
       "3                     507\n",
       "4           Canada    412\n",
       "5           France    349\n",
       "6            Japan    287\n",
       "7            Spain    215\n",
       "8      South Korea    212\n",
       "9          Germany    199\n",
       "10          Mexico    154\n",
       "11           China    147\n",
       "12       Australia    144\n",
       "13           Egypt    110\n",
       "14          Turkey    108"
      ]
     },
     "metadata": {},
     "output_type": "display_data"
    }
   ],
   "source": [
    "# Top countries (exploded)\n",
    "top_countries = df_country['country_split'].value_counts().head(15)\n",
    "top_countries_df = top_countries.reset_index()\n",
    "top_countries_df.columns = ['country','count']\n",
    "\n",
    "plt.figure(figsize=(10,5))\n",
    "plt.bar(top_countries_df['country'], top_countries_df['count'])\n",
    "plt.xticks(rotation=45, ha='right')\n",
    "plt.ylabel('Count')\n",
    "plt.title('Top 15 Countries by number of titles')\n",
    "plt.tight_layout()\n",
    "plt.show()\n",
    "\n",
    "display(top_countries_df)"
   ]
  },
  {
   "cell_type": "markdown",
   "id": "ee16401f",
   "metadata": {},
   "source": [
    "### 3.5 Duration analysis (Movies)"
   ]
  },
  {
   "cell_type": "code",
   "execution_count": 10,
   "id": "41c2ead0",
   "metadata": {},
   "outputs": [
    {
     "data": {
      "image/png": "[encoded data removed]",
      "text/plain": [
       "<Figure size 800x400 with 1 Axes>"
      ]
     },
     "metadata": {},
     "output_type": "display_data"
    },
    {
     "data": {
      "text/plain": [
       "count    5376.000000\n",
       "mean       99.306734\n",
       "std        28.533389\n",
       "min         3.000000\n",
       "25%        86.000000\n",
       "50%        98.000000\n",
       "75%       114.000000\n",
       "max       312.000000\n",
       "Name: duration_num, dtype: float64"
      ]
     },
     "metadata": {},
     "output_type": "display_data"
    }
   ],
   "source": [
    "# Duration distribution (movies) - numeric\n",
    "movies = dfc[dfc['type']=='Movie'].copy()\n",
    "movies['duration_num'] = pd.to_numeric(movies['duration_num'], errors='coerce')\n",
    "plt.figure(figsize=(8,4))\n",
    "plt.hist(movies['duration_num'].dropna(), bins=30)\n",
    "plt.xlabel('Duration (minutes)')\n",
    "plt.ylabel('Count')\n",
    "plt.title('Distribution of Movie Durations')\n",
    "plt.tight_layout()\n",
    "plt.show()\n",
    "\n",
    "# Basic stats\n",
    "display(movies['duration_num'].describe())"
   ]
  },
  {
   "cell_type": "markdown",
   "id": "f2cdb7a5",
   "metadata": {},
   "source": [
    "### 3.6 Ratings distribution"
   ]
  },
  {
   "cell_type": "code",
   "execution_count": 11,
   "id": "f364a2ed",
   "metadata": {},
   "outputs": [
    {
     "data": {
      "image/png": "[encoded data removed]",
      "text/plain": [
       "<Figure size 1000x400 with 1 Axes>"
      ]
     },
     "metadata": {},
     "output_type": "display_data"
    },
    {
     "data": {
      "text/plain": [
       "rating\n",
       "TV-MA       2862\n",
       "TV-14       1931\n",
       "TV-PG        806\n",
       "R            665\n",
       "PG-13        386\n",
       "TV-Y         280\n",
       "TV-Y7        271\n",
       "PG           247\n",
       "TV-G         194\n",
       "NR            84\n",
       "G             39\n",
       "TV-Y7-FV       6\n",
       "UR             5\n",
       "NC-17          3\n",
       "Name: count, dtype: int64"
      ]
     },
     "metadata": {},
     "output_type": "display_data"
    }
   ],
   "source": [
    "# Ratings distribution (top categories)\n",
    "rating_counts = dfc['rating'].value_counts().head(20)\n",
    "plt.figure(figsize=(10,4))\n",
    "plt.bar(rating_counts.index, rating_counts.values)\n",
    "plt.xticks(rotation=45, ha='right')\n",
    "plt.ylabel('Count')\n",
    "plt.title('Top Ratings by count')\n",
    "plt.tight_layout()\n",
    "plt.show()\n",
    "\n",
    "display(rating_counts)"
   ]
  },
  {
   "cell_type": "markdown",
   "id": "aecd40bc",
   "metadata": {},
   "source": [
    "### 3.7 Top Directors & Cast members"
   ]
  },
  {
   "cell_type": "code",
   "execution_count": 12,
   "id": "8e727049",
   "metadata": {},
   "outputs": [
    {
     "data": {
      "text/plain": [
       "director\n",
       "Jan Suter              21\n",
       "Raúl Campos            19\n",
       "Marcus Raboy           16\n",
       "Jay Karas              15\n",
       "Cathy Garcia-Molina    13\n",
       "Youssef Chahine        12\n",
       "Jay Chapman            12\n",
       "Martin Scorsese        12\n",
       "Steven Spielberg       10\n",
       "Shannon Hartman         9\n",
       "Anurag Kashyap          9\n",
       "David Dhawan            9\n",
       "Robert Rodriguez        8\n",
       "Umesh Mehra             8\n",
       "Yılmaz Erdoğan          8\n",
       "Name: count, dtype: int64"
      ]
     },
     "metadata": {},
     "output_type": "display_data"
    },
    {
     "data": {
      "text/plain": [
       "cast_member\n",
       "Anupam Kher         42\n",
       "Shah Rukh Khan      35\n",
       "Naseeruddin Shah    30\n",
       "Om Puri             30\n",
       "Takahiro Sakurai    29\n",
       "Akshay Kumar        29\n",
       "Yuki Kaji           27\n",
       "Paresh Rawal        27\n",
       "Amitabh Bachchan    27\n",
       "Boman Irani         27\n",
       "Kareena Kapoor      25\n",
       "Vincent Tong        24\n",
       "Andrea Libman       24\n",
       "John Cleese         24\n",
       "Tara Strong         22\n",
       "Name: count, dtype: int64"
      ]
     },
     "metadata": {},
     "output_type": "display_data"
    }
   ],
   "source": [
    "# Top directors (simple count)\n",
    "if 'director' in dfc.columns:\n",
    "    top_directors = dfc['director'].replace({'': pd.NA}).dropna().str.split(', ').explode().value_counts().head(15)\n",
    "    display(top_directors)\n",
    "else:\n",
    "    print('No director column')\n",
    "\n",
    "# Top cast members\n",
    "top_cast = df_cast['cast_member'].replace({'': pd.NA}).dropna().str.strip().value_counts().head(15)\n",
    "display(top_cast)"
   ]
  },
  {
   "cell_type": "markdown",
   "id": "f1ff9ae4",
   "metadata": {},
   "source": [
    "## 4) Save cleaned data and figures"
   ]
  },
  {
   "cell_type": "code",
   "execution_count": 13,
   "id": "ce2cacdb",
   "metadata": {},
   "outputs": [
    {
     "name": "stdout",
     "output_type": "stream",
     "text": [
      "Cleaned data saved to outputs/cleaned_netflix.csv\n"
     ]
    }
   ],
   "source": [
    "# Save cleaned data to outputs/\n",
    "os.makedirs('outputs', exist_ok=True)\n",
    "cleaned_path = 'outputs/cleaned_netflix.csv'\n",
    "dfc.to_csv(cleaned_path, index=False)\n",
    "print('Cleaned data saved to', cleaned_path)"
   ]
  },
  {
   "cell_type": "markdown",
   "id": "52622659",
   "metadata": {},
   "source": [
    "## 5) Strategic Insights & Recommendations\n",
    "\n",
    "Based on the comprehensive analysis above, here are the **data-driven strategic recommendations** aligned with the problem statement:\n",
    "\n",
    "### Key Findings:\n",
    "\n",
    "#### 1. **Movies vs TV Shows Distribution**\n",
    "- **Observation**: Run the analysis to see the current split between Movies and TV Shows\n",
    "- **Strategic Insight**: If Movies dominate (typically 70%+), Netflix should consider:\n",
    "  - Increasing investment in TV Shows for higher viewer retention (binge-watching effect)\n",
    "  - TV Shows generally have higher engagement and keep subscribers longer\n",
    "  \n",
    "#### 2. **Content Addition Trends Over Time**\n",
    "- **Observation**: The area chart (cell above) shows how content addition has evolved\n",
    "- **Strategic Insight**: \n",
    "  - Identify years with peak content addition and correlate with subscriber growth\n",
    "  - If growth has slowed recently, Netflix needs aggressive content acquisition\n",
    "  - Balance between original productions and licensed content\n",
    "\n",
    "#### 3. **Genre Popularity & Evolution**\n",
    "- **Top Performing Genres**: International Movies, Dramas, Comedies typically dominate\n",
    "- **Strategic Recommendations**:\n",
    "  - **Invest heavily** in top 3-5 genres identified in the analysis\n",
    "  - **Diversify within popular genres**: e.g., Regional International content (Bollywood, K-dramas, etc.)\n",
    "  - **Underrepresented genres** (identified from lower counts) present growth opportunities\n",
    "  - Monitor genre trends over time - if certain genres are declining, pivot strategy\n",
    "\n",
    "#### 4. **Geographic Content Distribution**\n",
    "- **Key Markets**: Typically USA, India, UK, South Korea produce most content\n",
    "- **Strategic Recommendations**:\n",
    "  - **Expand in underrepresented markets**: Latin America, Africa, Southeast Asia\n",
    "  - **Localization strategy**: Subtitle/dub popular content in local languages\n",
    "  - **Regional originals**: Countries with low contribution but high population = opportunity\n",
    "  - **Leverage successful markets**: If India/Korea show high content volume, analyze what works\n",
    "\n",
    "#### 5. **Duration Insights**\n",
    "- **Movie Duration**: Most movies cluster around 90-120 minutes (sweet spot for viewing)\n",
    "- **TV Show Seasons**: Analyze if single-season shows dominate (may indicate cancellations)\n",
    "- **Recommendation**: Maintain standard duration patterns that align with viewer expectations\n",
    "\n",
    "### Competitive Strategy Recommendations:\n",
    "\n",
    "1. **Content Gap Analysis**:\n",
    "   - Compare Netflix catalog with competitors (Disney+, Amazon Prime)\n",
    "   - Fill gaps in underrepresented genres and regions\n",
    "   \n",
    "2. **Quality vs Quantity**:\n",
    "   - Don't just add more content - focus on high-rated content in popular genres\n",
    "   - Use rating distribution analysis to guide quality standards\n",
    "\n",
    "3. **Original Content Focus**:\n",
    "   - Increase original productions in top-performing genres\n",
    "   - Original content = exclusive draw for subscribers\n",
    "\n",
    "4. **Regional Expansion Priority**:\n",
    "   - Countries with low content contribution but high internet penetration = priority markets\n",
    "   - Invest in local language originals for these markets\n",
    "\n",
    "5. **Binge-Worthy Content**:\n",
    "   - TV Shows with 2-4 seasons perform well (complete story arcs)\n",
    "   - Avoid too many single-season shows (viewer frustration)\n",
    "\n",
    "### Action Items for Netflix:\n",
    "✅ **Immediate**: Increase TV Show production in top 5 genres  \n",
    "✅ **Short-term**: Launch 3-5 regional originals in underrepresented markets  \n",
    "✅ **Long-term**: Establish production studios in high-growth regions (India, SE Asia, Africa)  \n",
    "✅ **Ongoing**: Monitor genre trends quarterly and adjust content acquisition accordingly  \n",
    "\n",
    "---\n",
    "\n",
    "### Next Steps for Further Analysis:\n",
    "- **Sentiment Analysis**: Analyze descriptions to identify themes in popular content\n",
    "- **Ratings Analysis**: Correlate content ratings with genres and countries\n",
    "- **Predictive Modeling**: Build ML models to predict successful content attributes\n",
    "- **Competitor Benchmarking**: Compare with Amazon Prime, Disney+ catalogs\n",
    "- **Interactive Dashboard**: Build Streamlit/Tableau dashboard for stakeholders"
   ]
  }
 ],
 "metadata": {
  "kernelspec": {
   "display_name": "Python 3",
   "language": "python",
   "name": "python3"
  },
  "language_info": {
   "codemirror_mode": {
    "name": "ipython",
    "version": 3
   },
   "file_extension": ".py",
   "mimetype": "text/x-python",
   "name": "python",
   "nbconvert_exporter": "python",
   "pygments_lexer": "ipython3",
   "version": "3.13.7"
  }
 },
 "nbformat": 4,
 "nbformat_minor": 5
}
